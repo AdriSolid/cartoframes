{
 "cells": [
  {
   "cell_type": "markdown",
   "metadata": {},
   "source": [
    "# cartoframes demo"
   ]
  },
  {
   "cell_type": "code",
   "execution_count": 14,
   "metadata": {
    "collapsed": false,
    "scrolled": true
   },
   "outputs": [
    {
     "data": {
      "text/plain": [
       "<module 'cartoframes' from 'cartoframes.py'>"
      ]
     },
     "execution_count": 14,
     "metadata": {},
     "output_type": "execute_result"
    }
   ],
   "source": [
    "reload(cartoframes)"
   ]
  },
  {
   "cell_type": "code",
   "execution_count": 15,
   "metadata": {
    "collapsed": false
   },
   "outputs": [],
   "source": [
    "import pandas as pd\n",
    "import carto\n",
    "import cartoframes\n",
    "\n",
    "import json\n",
    "from carto.auth import APIKeyAuthClient\n",
    "\n",
    "creds = json.loads(open('credentials.json').read())\n",
    "API_KEY = creds['api_key']\n",
    "USERNAME = creds['username']\n",
    "BASEURL = 'https://{username}.carto.com/api/'.format(username=USERNAME)\n",
    "\n",
    "auth_client = APIKeyAuthClient(BASEURL, API_KEY)"
   ]
  },
  {
   "cell_type": "raw",
   "metadata": {},
   "source": [
    "# brooklyn_poverty poverty_per_pop\n",
    "# dsny_monthly_tonnage_data\n",
    "# us_counties pop_sqkm\n",
    "# ny_boroughs boroname"
   ]
  },
  {
   "cell_type": "markdown",
   "metadata": {},
   "source": [
    "## Grab dataset"
   ]
  },
  {
   "cell_type": "code",
   "execution_count": 16,
   "metadata": {
    "collapsed": false
   },
   "outputs": [
    {
     "data": {
      "text/html": [
       "<div>\n",
       "<table border=\"1\" class=\"dataframe\">\n",
       "  <thead>\n",
       "    <tr style=\"text-align: right;\">\n",
       "      <th></th>\n",
       "      <th>geoid</th>\n",
       "      <th>poverty_count</th>\n",
       "      <th>poverty_per_pop</th>\n",
       "      <th>the_geom</th>\n",
       "      <th>the_geom_webmercator</th>\n",
       "      <th>total_population</th>\n",
       "    </tr>\n",
       "    <tr>\n",
       "      <th>cartodb_id</th>\n",
       "      <th></th>\n",
       "      <th></th>\n",
       "      <th></th>\n",
       "      <th></th>\n",
       "      <th></th>\n",
       "      <th></th>\n",
       "    </tr>\n",
       "  </thead>\n",
       "  <tbody>\n",
       "    <tr>\n",
       "      <th>34</th>\n",
       "      <td>360470341002</td>\n",
       "      <td>100.682065</td>\n",
       "      <td>0.135144</td>\n",
       "      <td>0103000020E61000000100000005000000D784B4C6A07C...</td>\n",
       "      <td>0103000020110F00000100000005000000D0DEA24ED866...</td>\n",
       "      <td>745.0</td>\n",
       "    </tr>\n",
       "    <tr>\n",
       "      <th>1</th>\n",
       "      <td>360470043001</td>\n",
       "      <td>0.000000</td>\n",
       "      <td>NaN</td>\n",
       "      <td>0103000020E6100000010000000700000037FC6EBA657F...</td>\n",
       "      <td>0103000020110F00000100000007000000B7A199888C6B...</td>\n",
       "      <td>140.0</td>\n",
       "    </tr>\n",
       "    <tr>\n",
       "      <th>102</th>\n",
       "      <td>360470510023</td>\n",
       "      <td>260.500000</td>\n",
       "      <td>0.216542</td>\n",
       "      <td>0103000020E610000001000000050000002D78D157907D...</td>\n",
       "      <td>0103000020110F0000010000000500000093664E3C6F68...</td>\n",
       "      <td>1203.0</td>\n",
       "    </tr>\n",
       "    <tr>\n",
       "      <th>49</th>\n",
       "      <td>360470406002</td>\n",
       "      <td>106.907834</td>\n",
       "      <td>0.167567</td>\n",
       "      <td>0103000020E6100000010000000700000021E9D32AFA7E...</td>\n",
       "      <td>0103000020110F00000100000007000000D4559AD4D56A...</td>\n",
       "      <td>638.0</td>\n",
       "    </tr>\n",
       "    <tr>\n",
       "      <th>69</th>\n",
       "      <td>360470510011</td>\n",
       "      <td>270.728785</td>\n",
       "      <td>0.130724</td>\n",
       "      <td>0103000020E61000000100000006000000A65EB7088C7D...</td>\n",
       "      <td>0103000020110F00000100000006000000FC9A93EA6768...</td>\n",
       "      <td>2071.0</td>\n",
       "    </tr>\n",
       "  </tbody>\n",
       "</table>\n",
       "</div>"
      ],
      "text/plain": [
       "                   geoid  poverty_count  poverty_per_pop  \\\n",
       "cartodb_id                                                 \n",
       "34          360470341002     100.682065         0.135144   \n",
       "1           360470043001       0.000000              NaN   \n",
       "102         360470510023     260.500000         0.216542   \n",
       "49          360470406002     106.907834         0.167567   \n",
       "69          360470510011     270.728785         0.130724   \n",
       "\n",
       "                                                     the_geom  \\\n",
       "cartodb_id                                                      \n",
       "34          0103000020E61000000100000005000000D784B4C6A07C...   \n",
       "1           0103000020E6100000010000000700000037FC6EBA657F...   \n",
       "102         0103000020E610000001000000050000002D78D157907D...   \n",
       "49          0103000020E6100000010000000700000021E9D32AFA7E...   \n",
       "69          0103000020E61000000100000006000000A65EB7088C7D...   \n",
       "\n",
       "                                         the_geom_webmercator  \\\n",
       "cartodb_id                                                      \n",
       "34          0103000020110F00000100000005000000D0DEA24ED866...   \n",
       "1           0103000020110F00000100000007000000B7A199888C6B...   \n",
       "102         0103000020110F0000010000000500000093664E3C6F68...   \n",
       "49          0103000020110F00000100000007000000D4559AD4D56A...   \n",
       "69          0103000020110F00000100000006000000FC9A93EA6768...   \n",
       "\n",
       "            total_population  \n",
       "cartodb_id                    \n",
       "34                     745.0  \n",
       "1                      140.0  \n",
       "102                   1203.0  \n",
       "49                     638.0  \n",
       "69                    2071.0  "
      ]
     },
     "execution_count": 16,
     "metadata": {},
     "output_type": "execute_result"
    }
   ],
   "source": [
    "df = pd.read_carto(auth_client, tablename='brooklyn_poverty')\n",
    "df.head()"
   ]
  },
  {
   "cell_type": "markdown",
   "metadata": {},
   "source": [
    "## Perform operations on dataset"
   ]
  },
  {
   "cell_type": "markdown",
   "metadata": {},
   "source": [
    "## Map results"
   ]
  },
  {
   "cell_type": "code",
   "execution_count": 18,
   "metadata": {
    "collapsed": false,
    "scrolled": false
   },
   "outputs": [
    {
     "data": {
      "text/html": [
       "<iframe src=\"/files/cartoframes.html?username=eschbacher&geomtype=polygon&stylecol=poverty_per_pop&datatype=float64&tablename=brooklyn_poverty&q=%257B%2522user_name%2522%253A%2520%2522eschbacher%2522%252C%250A%2520%2520%2520%2520%2520%2520%2520%2520%2520%2520%2520%2520%2520%2520%2520%2520%2520%2520%2520%2520%2522type%2522%253A%2520%2522cartodb%2522%252C%250A%2520%2520%2520%2520%2520%2520%2520%2520%2520%2520%2520%2520%2520%2520%2520%2520%2520%2520%2520%2520%2522sublayers%2522%253A%2520%255B%257B%250A%2520%2520%2520%2520%2520%2520%2520%2520%2520%2520%2520%2520%2520%2520%2520%2520%2520%2520%2520%2520%2520%2520%2522type%2522%253A%2520%2522http%2522%252C%250A%2520%2520%2520%2520%2520%2520%2520%2520%2520%2520%2520%2520%2520%2520%2520%2520%2520%2520%2520%2520%2520%2520%2522urlTemplate%2522%253A%2520%2522http%253A%2F%2F%257Bs%257D.basemaps.cartocdn.com%2Fdark_nolabels%2F%257Bz%257D%2F%257Bx%257D%2F%257By%257D.png%2522%250A%2520%2520%2520%2520%2520%2520%2520%2520%2520%2520%2520%2520%2520%2520%2520%2520%2520%2520%2520%2520%2520%2520%257D%252C%2520%257B%250A%2520%2520%2520%2520%2520%2520%2520%2520%2520%2520%2520%2520%2520%2520%2520%2520%2520%2520%2520%2520%2520%2520%2522sql%2522%253A%2520%2522select%2520%252A%2520from%2520brooklyn_poverty%2522%252C%250A%2520%2520%2520%2520%2520%2520%2520%2520%2520%2520%2520%2520%2520%2520%2520%2520%2520%2520%2520%2520%2520%2520%2522cartocss%2522%253A%2520%2522%2520%2520%2520%2520%2520%2520%2520%2520%2520%2520%2520%2520%2523layer%2520%257B%2520%2520%2520%2520%2520%2520%2520%2520%2520%2520%2520%2520%2520%2520polygon-fill%253A%2520ramp%2528%255Bpoverty_per_pop%255D%252C%2520cartocolor%2528RedOr%2529%252C%2520quantiles%2528%2529%2529%253B%2520%2520%2520%2520%2520%2520%2520%2520%2520%2520%2520%2520%2520%2520line-width%253A%25200.5%253B%2520%2520%2520%2520%2520%2520%2520%2520%2520%2520%2520%2520%2520%2520line-color%253A%2520%2523FFF%253B%2520%2520%2520%2520%2520%2520%2520%2520%2520%2520%2520%2520%2520%2520line-opacity%253A%25200.5%253B%2520%2520%2520%2520%2520%2520%2520%2520%2520%2520%2520%2520%257D%2520%2520%2520%2520%2520%2520%2520%2520%2522%250A%2520%2520%2520%2520%2520%2520%2520%2520%2520%2520%2520%2520%2520%2520%2520%2520%2520%2520%2520%2520%2520%2520%257D%255D%252C%250A%2520%2520%2520%2520%2520%2520%2520%2520%2520%2520%2520%2520%2520%2520%2520%2520%2520%2520%2520%2520%2520%2520%2522subdomains%2522%253A%2520%255B%2520%2522a%2522%252C%2520%2522b%2522%252C%2520%2522c%2522%2520%255D%250A%2520%2520%2520%2520%2520%2520%2520%2520%2520%2520%2520%2520%2520%2520%2520%2520%2520%2520%2520%2520%2520%2520%257D\" width=700 height=350></iframe>"
      ],
      "text/plain": [
       "<IPython.core.display.HTML object>"
      ]
     },
     "execution_count": 18,
     "metadata": {},
     "output_type": "execute_result"
    }
   ],
   "source": [
    "df.carto_map(interactive=True, stylecol='poverty_per_pop')"
   ]
  },
  {
   "cell_type": "code",
   "execution_count": null,
   "metadata": {
    "collapsed": true
   },
   "outputs": [],
   "source": []
  }
 ],
 "metadata": {
  "kernelspec": {
   "display_name": "Python 2",
   "language": "python",
   "name": "python2"
  },
  "language_info": {
   "codemirror_mode": {
    "name": "ipython",
    "version": 2
   },
   "file_extension": ".py",
   "mimetype": "text/x-python",
   "name": "python",
   "nbconvert_exporter": "python",
   "pygments_lexer": "ipython2",
   "version": "2.7.10"
  }
 },
 "nbformat": 4,
 "nbformat_minor": 2
}
