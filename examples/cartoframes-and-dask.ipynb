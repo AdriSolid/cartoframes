{
 "cells": [
  {
   "cell_type": "markdown",
   "metadata": {},
   "source": [
    "# CARTOframes with Dask\n",
    "\n",
    "This notebook recreate the workflow from <https://jakevdp.github.io/blog/2015/08/14/out-of-core-dataframes-in-python/>, where the author explores [`dask`](http://dask.pydata.org/en/latest/) for splitting up the computations across multiple cores in a machine to complete tasks more quickly. \n",
    "\n",
    "## Basics\n",
    "\n",
    "You'll need the following for this:\n",
    "\n",
    "1. Your CARTO username\n",
    "2. Your API key\n",
    "\n",
    "Paste these values in the quotes (`''`) below."
   ]
  },
  {
   "cell_type": "code",
   "execution_count": null,
   "metadata": {},
   "outputs": [],
   "source": [
    "import pandas as pd\n",
    "import cartoframes\n",
    "\n",
    "username = ''   # <-- insert your username here\n",
    "api_key = ''    # <-- insert your API key here\n",
    "tablename = ''  # <-- insert your tablename here\n",
    "\n",
    "cc = cartoframes.CartoContext('https://{}.carto.com/'.format(username),\n",
    "                              api_key)"
   ]
  },
  {
   "cell_type": "code",
   "execution_count": null,
   "metadata": {},
   "outputs": [],
   "source": [
    "from dask import dataframe as dd\n",
    "import pandas as pd\n",
    "columns = [\"name\", \"amenity\", \"Longitude\", \"Latitude\"]\n",
    "data = dd.read_csv('POIWorld.csv', usecols=columns)"
   ]
  },
  {
   "cell_type": "code",
   "execution_count": null,
   "metadata": {},
   "outputs": [],
   "source": [
    "with_name = data[data.name.notnull()]\n",
    "with_amenity = data[data.amenity.notnull()]\n",
    "\n",
    "is_starbucks = with_name.name.str.contains('[Ss]tarbucks')\n",
    "is_dunkin = with_name.name.str.contains('[Dd]unkin')\n",
    "\n",
    "starbucks = with_name[is_starbucks].compute()\n",
    "dunkin = with_name[is_dunkin].compute()"
   ]
  },
  {
   "cell_type": "code",
   "execution_count": null,
   "metadata": {},
   "outputs": [],
   "source": [
    "starbucks['type'] = 'starbucks'\n",
    "dunkin['type'] = 'dunkin'\n",
    "coffee_places = pd.concat([starbucks, dunkin])\n",
    "coffee_places.head(20)"
   ]
  },
  {
   "cell_type": "markdown",
   "metadata": {},
   "source": [
    "## Write DataFrame to CARTO"
   ]
  },
  {
   "cell_type": "code",
   "execution_count": null,
   "metadata": {},
   "outputs": [],
   "source": [
    "# specify columns for lng/lat so carto will create a geometry\n",
    "cc.write(coffee_places,\n",
    "         table_name='coffee_places',\n",
    "         lnglat=('longitude', 'latitude'))"
   ]
  },
  {
   "cell_type": "markdown",
   "metadata": {},
   "source": [
    "### Let's visualize this DataFrame\n",
    "\n",
    "Category map on Dunkin' Donuts vs. Starbucks (aka, color by 'type')"
   ]
  },
  {
   "cell_type": "code",
   "execution_count": null,
   "metadata": {
    "scrolled": false
   },
   "outputs": [],
   "source": [
    "from cartoframes import Layer\n",
    "cc.map(layers=Layer('coffee_places', color='type', size=5),\n",
    "       zoom=9, lng=-71.0637, lat=36.4275,\n",
    "       interactive=False)"
   ]
  },
  {
   "cell_type": "markdown",
   "metadata": {},
   "source": [
    "## Fast Food"
   ]
  },
  {
   "cell_type": "code",
   "execution_count": null,
   "metadata": {
    "scrolled": true
   },
   "outputs": [],
   "source": [
    "is_fastfood = with_amenity.amenity.str.contains('fast_food')\n",
    "fastfood = with_amenity[is_fastfood]\n",
    "fastfood.name.value_counts().head(12)"
   ]
  },
  {
   "cell_type": "code",
   "execution_count": null,
   "metadata": {},
   "outputs": [],
   "source": [
    "ff = fastfood.compute()\n",
    "cc.write(ff,\n",
    "         tablename='fastfood_dask',\n",
    "         lnglat=('longitude', 'latitude'))"
   ]
  },
  {
   "cell_type": "markdown",
   "metadata": {},
   "source": [
    "### Number of Fast Food places in this OSM dump"
   ]
  },
  {
   "cell_type": "code",
   "execution_count": null,
   "metadata": {},
   "outputs": [],
   "source": [
    "len(ff)"
   ]
  },
  {
   "cell_type": "markdown",
   "metadata": {},
   "source": [
    "### Recreating the map from the blog"
   ]
  },
  {
   "cell_type": "code",
   "execution_count": null,
   "metadata": {},
   "outputs": [],
   "source": [
    "cc.map(layers=Layer('fastfood_dask', size=2, color='#FFF'))"
   ]
  },
  {
   "cell_type": "markdown",
   "metadata": {},
   "source": [
    "### Adding measures from the Data Observatory\n",
    "\n",
    "We can augment our datasets to find out some demographics at the areas of each of the coffee places if you wanted to add features for building a model."
   ]
  },
  {
   "cell_type": "code",
   "execution_count": null,
   "metadata": {},
   "outputs": [],
   "source": [
    "# DO measures: Total Population,\n",
    "#              Children under 18 years of age\n",
    "#              Median income\n",
    "\n",
    "data_obs_measures = [{'numer_id': 'us.census.acs.B01003001'},\n",
    "                     {'numer_id': 'us.census.acs.B17001001'},\n",
    "                     {'numer_id': 'us.census.acs.B19013001'}]\n",
    "coffee_augmented = cc.data('coffee_places', data_obs_measures)\n",
    "coffee_augmented.head()"
   ]
  }
 ],
 "metadata": {
  "kernelspec": {
   "display_name": "Python 3",
   "language": "python",
   "name": "python3"
  },
  "language_info": {
   "codemirror_mode": {
    "name": "ipython",
    "version": 3
   },
   "file_extension": ".py",
   "mimetype": "text/x-python",
   "name": "python",
   "nbconvert_exporter": "python",
   "pygments_lexer": "ipython3",
   "version": "3.6.2"
  }
 },
 "nbformat": 4,
 "nbformat_minor": 2
}
