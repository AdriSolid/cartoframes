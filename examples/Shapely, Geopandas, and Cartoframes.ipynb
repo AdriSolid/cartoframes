{
 "cells": [
  {
   "cell_type": "markdown",
   "metadata": {},
   "source": [
    "Here, I'll show the relationship between cartoframes and geopandas."
   ]
  },
  {
   "cell_type": "code",
   "execution_count": 1,
   "metadata": {
    "collapsed": false
   },
   "outputs": [],
   "source": [
    "import cartoframes as cf\n",
    "import geopandas as gpd\n",
    "%matplotlib inline"
   ]
  },
  {
   "cell_type": "code",
   "execution_count": 2,
   "metadata": {
    "collapsed": true
   },
   "outputs": [],
   "source": [
    "cxn = cf.CartoContext() # remember, store your credentials \n",
    "                        # using cf.credentials.set_credentials!"
   ]
  },
  {
   "cell_type": "markdown",
   "metadata": {},
   "source": [
    "I have an example dataset in my CARTO account which contains some data on criminology from 1960 onwards at the county level. I'll load that now using the standard read function from cartoframes:"
   ]
  },
  {
   "cell_type": "code",
   "execution_count": 3,
   "metadata": {
    "collapsed": false
   },
   "outputs": [],
   "source": [
    "df = cxn.read('nat')"
   ]
  },
  {
   "cell_type": "markdown",
   "metadata": {},
   "source": [
    "Now, by default, CARTO uses the typical Well-known-binary (WKB) serialization for geometries that come out of PostGIS. "
   ]
  },
  {
   "cell_type": "code",
   "execution_count": 4,
   "metadata": {
    "collapsed": false
   },
   "outputs": [
    {
     "data": {
      "text/html": [
       "<div>\n",
       "<table border=\"1\" class=\"dataframe\">\n",
       "  <thead>\n",
       "    <tr style=\"text-align: right;\">\n",
       "      <th></th>\n",
       "      <th>fipsno</th>\n",
       "      <th>the_geom</th>\n",
       "    </tr>\n",
       "    <tr>\n",
       "      <th>cartodb_id</th>\n",
       "      <th></th>\n",
       "      <th></th>\n",
       "    </tr>\n",
       "  </thead>\n",
       "  <tbody>\n",
       "    <tr>\n",
       "      <th>1505</th>\n",
       "      <td>17165.0</td>\n",
       "      <td>0103000020E6100000010000000700000000000000661A...</td>\n",
       "    </tr>\n",
       "    <tr>\n",
       "      <th>1720</th>\n",
       "      <td>40053.0</td>\n",
       "      <td>0103000020E61000000100000007000000000000205F86...</td>\n",
       "    </tr>\n",
       "  </tbody>\n",
       "</table>\n",
       "</div>"
      ],
      "text/plain": [
       "             fipsno                                           the_geom\n",
       "cartodb_id                                                            \n",
       "1505        17165.0  0103000020E6100000010000000700000000000000661A...\n",
       "1720        40053.0  0103000020E61000000100000007000000000000205F86..."
      ]
     },
     "execution_count": 4,
     "metadata": {},
     "output_type": "execute_result"
    }
   ],
   "source": [
    "df.head(2)[['fipsno', 'the_geom']]"
   ]
  },
  {
   "cell_type": "markdown",
   "metadata": {},
   "source": [
    "With [PR#86](https://github.com/CartoDB/cartoframes/pull/86), these strings are now deserialized into `shapely` objects! This means a dataframe from `cartoframes` is almost directly mapped to `Geopandas` dataframes. "
   ]
  },
  {
   "cell_type": "code",
   "execution_count": 5,
   "metadata": {
    "collapsed": false
   },
   "outputs": [
    {
     "data": {
      "text/html": [
       "<div>\n",
       "<table border=\"1\" class=\"dataframe\">\n",
       "  <thead>\n",
       "    <tr style=\"text-align: right;\">\n",
       "      <th></th>\n",
       "      <th>fipsno</th>\n",
       "      <th>geometry</th>\n",
       "    </tr>\n",
       "    <tr>\n",
       "      <th>cartodb_id</th>\n",
       "      <th></th>\n",
       "      <th></th>\n",
       "    </tr>\n",
       "  </thead>\n",
       "  <tbody>\n",
       "    <tr>\n",
       "      <th>1505</th>\n",
       "      <td>17165.0</td>\n",
       "      <td>POLYGON ((-88.4124755859375 37.60790252685547,...</td>\n",
       "    </tr>\n",
       "    <tr>\n",
       "      <th>1720</th>\n",
       "      <td>40053.0</td>\n",
       "      <td>POLYGON ((-98.09955596923828 36.59130859375, -...</td>\n",
       "    </tr>\n",
       "  </tbody>\n",
       "</table>\n",
       "</div>"
      ],
      "text/plain": [
       "             fipsno                                           geometry\n",
       "cartodb_id                                                            \n",
       "1505        17165.0  POLYGON ((-88.4124755859375 37.60790252685547,...\n",
       "1720        40053.0  POLYGON ((-98.09955596923828 36.59130859375, -..."
      ]
     },
     "execution_count": 5,
     "metadata": {},
     "output_type": "execute_result"
    }
   ],
   "source": [
    "df.head(2)[['fipsno', 'geometry']]"
   ]
  },
  {
   "cell_type": "markdown",
   "metadata": {},
   "source": [
    "This allows you to do GIS operations locally in Geopandas. To send a dataframe with shapely geometries into a Geopandas dataframe, you only need to call the constructor directly on the dataframe:"
   ]
  },
  {
   "cell_type": "code",
   "execution_count": 6,
   "metadata": {
    "collapsed": true
   },
   "outputs": [],
   "source": [
    "gdf = gpd.GeoDataFrame(df)"
   ]
  },
  {
   "cell_type": "code",
   "execution_count": 7,
   "metadata": {
    "collapsed": false
   },
   "outputs": [
    {
     "data": {
      "text/plain": [
       "<matplotlib.axes._subplots.AxesSubplot at 0x7f97958c81d0>"
      ]
     },
     "execution_count": 7,
     "metadata": {},
     "output_type": "execute_result"
    },
    {
     "data": {
      "image/png": "[encoded data removed]",
      "text/plain": [
       "<matplotlib.figure.Figure at 0x7f97958aee80>"
      ]
     },
     "metadata": {},
     "output_type": "display_data"
    }
   ],
   "source": [
    "gpd.GeoDataFrame(df).plot('hr90', linewidth=.1) #to prove we're in geopandas"
   ]
  },
  {
   "cell_type": "markdown",
   "metadata": {},
   "source": [
    "The nice thing with having the code to serialize/deserialize `shapely` objects is that you can publish directly to CARTO (and make CARTO maps) directly from (geo)pandas:"
   ]
  },
  {
   "cell_type": "code",
   "execution_count": 8,
   "metadata": {
    "collapsed": false
   },
   "outputs": [],
   "source": [
    "cxn.write(df, encode_geom=True, table_name='new_table', overwrite=True)"
   ]
  },
  {
   "cell_type": "markdown",
   "metadata": {},
   "source": [
    "If you change the geometries locally, the changes propagate back to CARTO:"
   ]
  },
  {
   "cell_type": "code",
   "execution_count": 9,
   "metadata": {
    "collapsed": false
   },
   "outputs": [],
   "source": [
    "gdf['geometry'] = gdf.geometry.apply(lambda x: x.buffer(2))\n",
    "df['geometry'] = df.geometry.apply(lambda x: x.buffer(2))"
   ]
  },
  {
   "cell_type": "code",
   "execution_count": 10,
   "metadata": {
    "collapsed": false,
    "scrolled": false
   },
   "outputs": [],
   "source": [
    "cxn.write(gdf, encode_geom=True, table_name='buffered', overwrite=True)"
   ]
  },
  {
   "cell_type": "code",
   "execution_count": 11,
   "metadata": {
    "collapsed": false
   },
   "outputs": [
    {
     "data": {
      "text/html": [
       "<div>\n",
       "<table border=\"1\" class=\"dataframe\">\n",
       "  <thead>\n",
       "    <tr style=\"text-align: right;\">\n",
       "      <th></th>\n",
       "      <th>ma90</th>\n",
       "      <th>south</th>\n",
       "      <th>fp89</th>\n",
       "      <th>dnl60</th>\n",
       "      <th>mfil79</th>\n",
       "      <th>rd90</th>\n",
       "      <th>dv80</th>\n",
       "      <th>hc60</th>\n",
       "      <th>po70</th>\n",
       "      <th>ps90</th>\n",
       "      <th>...</th>\n",
       "      <th>blk90</th>\n",
       "      <th>rd60</th>\n",
       "      <th>state_fips</th>\n",
       "      <th>dv90</th>\n",
       "      <th>fp69</th>\n",
       "      <th>field_1</th>\n",
       "      <th>fipsno</th>\n",
       "      <th>fh90</th>\n",
       "      <th>pol80</th>\n",
       "      <th>geometry</th>\n",
       "    </tr>\n",
       "    <tr>\n",
       "      <th>cartodb_id</th>\n",
       "      <th></th>\n",
       "      <th></th>\n",
       "      <th></th>\n",
       "      <th></th>\n",
       "      <th></th>\n",
       "      <th></th>\n",
       "      <th></th>\n",
       "      <th></th>\n",
       "      <th></th>\n",
       "      <th></th>\n",
       "      <th></th>\n",
       "      <th></th>\n",
       "      <th></th>\n",
       "      <th></th>\n",
       "      <th></th>\n",
       "      <th></th>\n",
       "      <th></th>\n",
       "      <th></th>\n",
       "      <th></th>\n",
       "      <th></th>\n",
       "      <th></th>\n",
       "    </tr>\n",
       "  </thead>\n",
       "  <tbody>\n",
       "    <tr>\n",
       "      <th>1505</th>\n",
       "      <td>38.2</td>\n",
       "      <td>0.0</td>\n",
       "      <td>15.828502</td>\n",
       "      <td>4.226510</td>\n",
       "      <td>9.695417</td>\n",
       "      <td>0.377041</td>\n",
       "      <td>5.412968</td>\n",
       "      <td>1.000000</td>\n",
       "      <td>25721.0</td>\n",
       "      <td>0.207842</td>\n",
       "      <td>...</td>\n",
       "      <td>3.506459</td>\n",
       "      <td>0.457671</td>\n",
       "      <td>17.0</td>\n",
       "      <td>8.403532</td>\n",
       "      <td>19.3</td>\n",
       "      <td>1504.0</td>\n",
       "      <td>17165.0</td>\n",
       "      <td>13.172442</td>\n",
       "      <td>10.255833</td>\n",
       "      <td>POLYGON ((-88.35277784856117 35.60879368035607...</td>\n",
       "    </tr>\n",
       "    <tr>\n",
       "      <th>1720</th>\n",
       "      <td>39.5</td>\n",
       "      <td>1.0</td>\n",
       "      <td>11.474435</td>\n",
       "      <td>2.089815</td>\n",
       "      <td>9.738908</td>\n",
       "      <td>-0.342290</td>\n",
       "      <td>4.069299</td>\n",
       "      <td>0.000000</td>\n",
       "      <td>7117.0</td>\n",
       "      <td>-1.178859</td>\n",
       "      <td>...</td>\n",
       "      <td>0.052733</td>\n",
       "      <td>-0.358385</td>\n",
       "      <td>40.0</td>\n",
       "      <td>5.862884</td>\n",
       "      <td>14.6</td>\n",
       "      <td>1719.0</td>\n",
       "      <td>40053.0</td>\n",
       "      <td>7.134364</td>\n",
       "      <td>8.782323</td>\n",
       "      <td>POLYGON ((-98.09408038595517 34.59131608926712...</td>\n",
       "    </tr>\n",
       "    <tr>\n",
       "      <th>2799</th>\n",
       "      <td>36.7</td>\n",
       "      <td>1.0</td>\n",
       "      <td>9.645150</td>\n",
       "      <td>3.555298</td>\n",
       "      <td>9.842463</td>\n",
       "      <td>-0.553942</td>\n",
       "      <td>4.230542</td>\n",
       "      <td>0.666667</td>\n",
       "      <td>24165.0</td>\n",
       "      <td>0.554042</td>\n",
       "      <td>...</td>\n",
       "      <td>0.854684</td>\n",
       "      <td>-0.498175</td>\n",
       "      <td>48.0</td>\n",
       "      <td>7.072922</td>\n",
       "      <td>13.0</td>\n",
       "      <td>2798.0</td>\n",
       "      <td>48091.0</td>\n",
       "      <td>9.104427</td>\n",
       "      <td>10.503587</td>\n",
       "      <td>POLYGON ((-99.342072998125 27.87317430656412, ...</td>\n",
       "    </tr>\n",
       "    <tr>\n",
       "      <th>14</th>\n",
       "      <td>43.9</td>\n",
       "      <td>0.0</td>\n",
       "      <td>8.383961</td>\n",
       "      <td>1.454312</td>\n",
       "      <td>9.708567</td>\n",
       "      <td>-0.737595</td>\n",
       "      <td>3.135889</td>\n",
       "      <td>0.000000</td>\n",
       "      <td>4564.0</td>\n",
       "      <td>-1.724842</td>\n",
       "      <td>...</td>\n",
       "      <td>0.034495</td>\n",
       "      <td>-0.173043</td>\n",
       "      <td>38.0</td>\n",
       "      <td>5.452946</td>\n",
       "      <td>14.6</td>\n",
       "      <td>13.0</td>\n",
       "      <td>38023.0</td>\n",
       "      <td>9.113001</td>\n",
       "      <td>8.158802</td>\n",
       "      <td>POLYGON ((-100.9549124845266 49.24699589679899...</td>\n",
       "    </tr>\n",
       "    <tr>\n",
       "      <th>68</th>\n",
       "      <td>35.5</td>\n",
       "      <td>0.0</td>\n",
       "      <td>10.930828</td>\n",
       "      <td>2.602347</td>\n",
       "      <td>9.551587</td>\n",
       "      <td>-0.652795</td>\n",
       "      <td>2.569074</td>\n",
       "      <td>0.000000</td>\n",
       "      <td>5388.0</td>\n",
       "      <td>-1.070270</td>\n",
       "      <td>...</td>\n",
       "      <td>0.000000</td>\n",
       "      <td>-0.089455</td>\n",
       "      <td>27.0</td>\n",
       "      <td>5.014409</td>\n",
       "      <td>21.2</td>\n",
       "      <td>67.0</td>\n",
       "      <td>27125.0</td>\n",
       "      <td>6.746371</td>\n",
       "      <td>8.607217</td>\n",
       "      <td>POLYGON ((-98.481259264152 48.00606406878377, ...</td>\n",
       "    </tr>\n",
       "  </tbody>\n",
       "</table>\n",
       "<p>5 rows × 73 columns</p>\n",
       "</div>"
      ],
      "text/plain": [
       "            ma90  south       fp89     dnl60    mfil79      rd90      dv80  \\\n",
       "cartodb_id                                                                   \n",
       "1505        38.2    0.0  15.828502  4.226510  9.695417  0.377041  5.412968   \n",
       "1720        39.5    1.0  11.474435  2.089815  9.738908 -0.342290  4.069299   \n",
       "2799        36.7    1.0   9.645150  3.555298  9.842463 -0.553942  4.230542   \n",
       "14          43.9    0.0   8.383961  1.454312  9.708567 -0.737595  3.135889   \n",
       "68          35.5    0.0  10.930828  2.602347  9.551587 -0.652795  2.569074   \n",
       "\n",
       "                hc60     po70      ps90  \\\n",
       "cartodb_id                                \n",
       "1505        1.000000  25721.0  0.207842   \n",
       "1720        0.000000   7117.0 -1.178859   \n",
       "2799        0.666667  24165.0  0.554042   \n",
       "14          0.000000   4564.0 -1.724842   \n",
       "68          0.000000   5388.0 -1.070270   \n",
       "\n",
       "                                  ...                             blk90  \\\n",
       "cartodb_id                        ...                                     \n",
       "1505                              ...                          3.506459   \n",
       "1720                              ...                          0.052733   \n",
       "2799                              ...                          0.854684   \n",
       "14                                ...                          0.034495   \n",
       "68                                ...                          0.000000   \n",
       "\n",
       "                rd60  state_fips      dv90  fp69  field_1   fipsno       fh90  \\\n",
       "cartodb_id                                                                      \n",
       "1505        0.457671        17.0  8.403532  19.3   1504.0  17165.0  13.172442   \n",
       "1720       -0.358385        40.0  5.862884  14.6   1719.0  40053.0   7.134364   \n",
       "2799       -0.498175        48.0  7.072922  13.0   2798.0  48091.0   9.104427   \n",
       "14         -0.173043        38.0  5.452946  14.6     13.0  38023.0   9.113001   \n",
       "68         -0.089455        27.0  5.014409  21.2     67.0  27125.0   6.746371   \n",
       "\n",
       "                pol80                                           geometry  \n",
       "cartodb_id                                                                \n",
       "1505        10.255833  POLYGON ((-88.35277784856117 35.60879368035607...  \n",
       "1720         8.782323  POLYGON ((-98.09408038595517 34.59131608926712...  \n",
       "2799        10.503587  POLYGON ((-99.342072998125 27.87317430656412, ...  \n",
       "14           8.158802  POLYGON ((-100.9549124845266 49.24699589679899...  \n",
       "68           8.607217  POLYGON ((-98.481259264152 48.00606406878377, ...  \n",
       "\n",
       "[5 rows x 73 columns]"
      ]
     },
     "execution_count": 11,
     "metadata": {},
     "output_type": "execute_result"
    }
   ],
   "source": [
    "gdf.head()"
   ]
  },
  {
   "cell_type": "code",
   "execution_count": 12,
   "metadata": {
    "collapsed": false,
    "scrolled": false
   },
   "outputs": [
    {
     "data": {
      "text/html": [
       "<iframe srcdoc=\"<!DOCTYPE html>\n",
       "<html>\n",
       "  <head>\n",
       "    <title>Carto</title>\n",
       "    <meta name='viewport' content='initial-scale=1.0, user-scalable=no' />\n",
       "    <meta http-equiv='content-type' content='text/html; charset=UTF-8' />\n",
       "    <link rel='shortcut icon' href='http://cartodb.com/assets/favicon.ico' />\n",
       "\n",
       "    <style>\n",
       "     html, body, #map {\n",
       "       height: 100%;\n",
       "       padding: 0;\n",
       "       margin: 0;\n",
       "     }\n",
       "     #zoom-center {\n",
       "       position: absolute;\n",
       "       right: 0;\n",
       "       top: 0;\n",
       "       background-color: rgba(255, 255, 255, 0.7);\n",
       "       width: 240px;\n",
       "       z-index: 100;\n",
       "       padding: 4px;\n",
       "     }\n",
       "    </style>\n",
       "\n",
       "    <link rel='stylesheet' href='https://cartodb-libs.global.ssl.fastly.net/cartodb.js/v3/3.15/themes/css/cartodb.css' />\n",
       "  </head>\n",
       "  <body>\n",
       "    <div id='zoom-center'>\n",
       "      zoom=<span id='zoom'>4</span>,\n",
       "      lng=<span id='lon'>No data</span>, lat=<span id='lat'>No data</span></div>\n",
       "    <div id='map'></div>\n",
       "    <script src='https://cartodb-libs.global.ssl.fastly.net/cartodb.js/v3/3.15/cartodb.js'></script>\n",
       "\n",
       "    <script>\n",
       "     const config  = {'maps_api_template': 'https://lwolf-carto.carto.com', 'user_name': 'lwolf-carto', 'tiler_protocol': 'https', 'tiler_port': '80', 'sql_api_template': 'https://lwolf-carto.carto.com', 'named_map': {'name': 'cartoframes_ver20170406_layers1_time0_baseid1_labels0_zoom0', 'params': {'south': 22.9569580927926, 'sql_0': 'SELECT * FROM buffered', 'north': 51.370932923985499, 'cartocss_0': &quot;#layer[&#92;'mapnik::geometry_type&#92;'=1] {  marker-line-color: #000; marker-line-opacity: 1; marker-fill: ramp([gi69], cartocolor(Mint), quantiles(5)); marker-fill-opacity: 1; marker-line-width: 0.5; marker-width: 10; marker-allow-overlap: true;} #layer[&#92;'mapnik::geometry_type&#92;'=2] {  line-width: 1.5; line-color: ramp([gi69], cartocolor(Mint), quantiles(5));} #layer[&#92;'mapnik::geometry_type&#92;'=3] {  line-color: #FFF; polygon-gamma: 0.5; polygon-opacity: 0.9; line-opacity: 0.25; line-width: 0.5; line-comp-op: hard-light; polygon-fill: ramp([gi69], cartocolor(Mint), quantiles(5));} &quot;, 'west': -126.729647650788, 'basemap_url': 'https://cartodb-basemaps-{s}.global.ssl.fastly.net/dark_all/{z}/{x}/{y}.png', 'east': -64.969860407846895}}, 'type': 'namedmap', 'tiler_domain': 'carto.com'};\n",
       "     const bounds  = [[51.370932923985499, -64.969860407846895], [22.9569580927926, -126.729647650788]];\n",
       "     const options = {'https': true, 'filter': ['http', 'mapnik', 'torque']};\n",
       "\n",
       "     const adjustLongitude = (lng) => (\n",
       "       lng - ((Math.ceil((lng + 180) / 360) - 1) * 360)\n",
       "     );\n",
       "     const map = L.map('map', {\n",
       "       zoom: 3,\n",
       "       center: [0, 0],\n",
       "     });\n",
       "     const updateMapInfo = () => {\n",
       "       $('#zoom').text(map.getZoom());\n",
       "       $('#lat').text(map.getCenter().lat.toFixed(4));\n",
       "       $('#lon').text(adjustLongitude(map.getCenter().lng).toFixed(4));\n",
       "     };\n",
       "\n",
       "     cartodb.createLayer(map, config, options)\n",
       "            .addTo(map)\n",
       "            .done((layer) => {\n",
       "              if (bounds.length) {\n",
       "                map.fitBounds(bounds);\n",
       "              }\n",
       "              updateMapInfo();\n",
       "              map.on('move', () => {\n",
       "                updateMapInfo();\n",
       "              });\n",
       "            })\n",
       "            .error((err) => {\n",
       "              console.log('ERROR: ', err);\n",
       "            });\n",
       "    </script>\n",
       "\n",
       "  </body>\n",
       "</html>\n",
       "\" width=800 height=400>  Preview image: <img src=\"https://lwolf-carto.carto.com/api/v1/map/static/named/cartoframes_ver20170406_layers1_time0_baseid1_labels0_zoom0/800/400.png?config=%7B%22cartocss_0%22%3A+%22%23layer%5B%27mapnik%3A%3Ageometry_type%27%3D1%5D+%7B++marker-line-color%3A+%23000%3B+marker-line-opacity%3A+1%3B+marker-fill%3A+ramp%28%5Bgi69%5D%2C+cartocolor%28Mint%29%2C+quantiles%285%29%29%3B+marker-fill-opacity%3A+1%3B+marker-line-width%3A+0.5%3B+marker-width%3A+10%3B+marker-allow-overlap%3A+true%3B%7D+%23layer%5B%27mapnik%3A%3Ageometry_type%27%3D2%5D+%7B++line-width%3A+1.5%3B+line-color%3A+ramp%28%5Bgi69%5D%2C+cartocolor%28Mint%29%2C+quantiles%285%29%29%3B%7D+%23layer%5B%27mapnik%3A%3Ageometry_type%27%3D3%5D+%7B++line-color%3A+%23FFF%3B+polygon-gamma%3A+0.5%3B+polygon-opacity%3A+0.9%3B+line-opacity%3A+0.25%3B+line-width%3A+0.5%3B+line-comp-op%3A+hard-light%3B+polygon-fill%3A+ramp%28%5Bgi69%5D%2C+cartocolor%28Mint%29%2C+quantiles%285%29%29%3B%7D+%22%2C+%22basemap_url%22%3A+%22https%3A%2F%2Fcartodb-basemaps-%7Bs%7D.global.ssl.fastly.net%2Fdark_all%2F%7Bz%7D%2F%7Bx%7D%2F%7By%7D.png%22%2C+%22sql_0%22%3A+%22SELECT+%2A+FROM+buffered%22%7D&anti_cache=0.3092037769690339\" /></iframe>"
      ],
      "text/plain": [
       "<IPython.core.display.HTML object>"
      ]
     },
     "execution_count": 12,
     "metadata": {},
     "output_type": "execute_result"
    }
   ],
   "source": [
    "cxn.map(layers=[cf.BaseMap(), cf.Layer('buffered', \n",
    "                                       color=dict(column='gi69'))],\n",
    "        interactive=True)"
   ]
  },
  {
   "cell_type": "code",
   "execution_count": null,
   "metadata": {
    "collapsed": true
   },
   "outputs": [],
   "source": []
  }
 ],
 "metadata": {
  "anaconda-cloud": {},
  "kernelspec": {
   "display_name": "Python [conda env:py36]",
   "language": "python",
   "name": "conda-env-py36-py"
  },
  "language_info": {
   "codemirror_mode": {
    "name": "ipython",
    "version": 3
   },
   "file_extension": ".py",
   "mimetype": "text/x-python",
   "name": "python",
   "nbconvert_exporter": "python",
   "pygments_lexer": "ipython3",
   "version": "3.5.2"
  }
 },
 "nbformat": 4,
 "nbformat_minor": 2
}
