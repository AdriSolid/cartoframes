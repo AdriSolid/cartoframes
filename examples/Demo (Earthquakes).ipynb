{
 "cells": [
  {
   "cell_type": "markdown",
   "metadata": {},
   "source": [
    "# Using CARTOframes to view earthquakes from the last 30 days"
   ]
  },
  {
   "cell_type": "code",
   "execution_count": 1,
   "metadata": {
    "collapsed": true
   },
   "outputs": [],
   "source": [
    "import cartoframes\n",
    "from cartoframes import Credentials\n",
    "from cartoframes import Layer, BaseMap, styling\n",
    "import pandas as pd\n",
    "%matplotlib inline"
   ]
  },
  {
   "cell_type": "code",
   "execution_count": 8,
   "metadata": {
    "collapsed": false
   },
   "outputs": [],
   "source": [
    "USERNAME = 'michellemho-carto'  # <-- replace with your username \n",
    "APIKEY = 'abcde'       # <-- your CARTO API key\n",
    "creds = Credentials(username=USERNAME, \n",
    "                    key=APIKEY)\n",
    "creds.save()  # save credentials for later use (not dependent on Python session)\n",
    "cc = cartoframes.CartoContext(creds)"
   ]
  },
  {
   "cell_type": "code",
   "execution_count": 9,
   "metadata": {
    "collapsed": true
   },
   "outputs": [],
   "source": [
    "cc = cartoframes.CartoContext()"
   ]
  },
  {
   "cell_type": "code",
   "execution_count": 10,
   "metadata": {
    "collapsed": false,
    "scrolled": true
   },
   "outputs": [
    {
     "data": {
      "text/plain": [
       "Credentials(username=michellemho-carto, key=7c01c3ad9bfe3abea670239c8d8b52ffffdd5177, base_url=https://michellemho-carto.carto.com)"
      ]
     },
     "execution_count": 10,
     "metadata": {},
     "output_type": "execute_result"
    }
   ],
   "source": [
    "cc.creds"
   ]
  },
  {
   "cell_type": "code",
   "execution_count": 11,
   "metadata": {
    "collapsed": false,
    "scrolled": true
   },
   "outputs": [
    {
     "data": {
      "text/html": [
       "<div>\n",
       "<style scoped>\n",
       "    .dataframe tbody tr th:only-of-type {\n",
       "        vertical-align: middle;\n",
       "    }\n",
       "\n",
       "    .dataframe tbody tr th {\n",
       "        vertical-align: top;\n",
       "    }\n",
       "\n",
       "    .dataframe thead th {\n",
       "        text-align: right;\n",
       "    }\n",
       "</style>\n",
       "<table border=\"1\" class=\"dataframe\">\n",
       "  <thead>\n",
       "    <tr style=\"text-align: right;\">\n",
       "      <th></th>\n",
       "      <th>time</th>\n",
       "      <th>latitude</th>\n",
       "      <th>longitude</th>\n",
       "      <th>depth</th>\n",
       "      <th>mag</th>\n",
       "      <th>magType</th>\n",
       "      <th>nst</th>\n",
       "      <th>gap</th>\n",
       "      <th>dmin</th>\n",
       "      <th>rms</th>\n",
       "      <th>...</th>\n",
       "      <th>updated</th>\n",
       "      <th>place</th>\n",
       "      <th>type</th>\n",
       "      <th>horizontalError</th>\n",
       "      <th>depthError</th>\n",
       "      <th>magError</th>\n",
       "      <th>magNst</th>\n",
       "      <th>status</th>\n",
       "      <th>locationSource</th>\n",
       "      <th>magSource</th>\n",
       "    </tr>\n",
       "  </thead>\n",
       "  <tbody>\n",
       "    <tr>\n",
       "      <th>0</th>\n",
       "      <td>2017-11-09T14:03:55.926Z</td>\n",
       "      <td>64.614300</td>\n",
       "      <td>-149.396800</td>\n",
       "      <td>19.50</td>\n",
       "      <td>1.60</td>\n",
       "      <td>ml</td>\n",
       "      <td>NaN</td>\n",
       "      <td>NaN</td>\n",
       "      <td>NaN</td>\n",
       "      <td>0.66</td>\n",
       "      <td>...</td>\n",
       "      <td>2017-11-09T14:12:34.486Z</td>\n",
       "      <td>14km WNW of North Nenana, Alaska</td>\n",
       "      <td>earthquake</td>\n",
       "      <td>NaN</td>\n",
       "      <td>0.10</td>\n",
       "      <td>NaN</td>\n",
       "      <td>NaN</td>\n",
       "      <td>automatic</td>\n",
       "      <td>ak</td>\n",
       "      <td>ak</td>\n",
       "    </tr>\n",
       "    <tr>\n",
       "      <th>1</th>\n",
       "      <td>2017-11-09T13:27:52.200Z</td>\n",
       "      <td>35.845833</td>\n",
       "      <td>-118.257167</td>\n",
       "      <td>1.69</td>\n",
       "      <td>1.27</td>\n",
       "      <td>ml</td>\n",
       "      <td>15.0</td>\n",
       "      <td>99.0</td>\n",
       "      <td>0.150400</td>\n",
       "      <td>0.18</td>\n",
       "      <td>...</td>\n",
       "      <td>2017-11-09T13:31:25.279Z</td>\n",
       "      <td>18km NE of Kernville, CA</td>\n",
       "      <td>earthquake</td>\n",
       "      <td>0.40</td>\n",
       "      <td>0.81</td>\n",
       "      <td>0.21</td>\n",
       "      <td>15.0</td>\n",
       "      <td>automatic</td>\n",
       "      <td>ci</td>\n",
       "      <td>ci</td>\n",
       "    </tr>\n",
       "    <tr>\n",
       "      <th>2</th>\n",
       "      <td>2017-11-09T13:26:10.467Z</td>\n",
       "      <td>59.781200</td>\n",
       "      <td>-153.322300</td>\n",
       "      <td>126.00</td>\n",
       "      <td>2.80</td>\n",
       "      <td>ml</td>\n",
       "      <td>NaN</td>\n",
       "      <td>NaN</td>\n",
       "      <td>NaN</td>\n",
       "      <td>0.57</td>\n",
       "      <td>...</td>\n",
       "      <td>2017-11-09T13:38:45.397Z</td>\n",
       "      <td>83km W of Anchor Point, Alaska</td>\n",
       "      <td>earthquake</td>\n",
       "      <td>NaN</td>\n",
       "      <td>0.40</td>\n",
       "      <td>NaN</td>\n",
       "      <td>NaN</td>\n",
       "      <td>automatic</td>\n",
       "      <td>ak</td>\n",
       "      <td>ak</td>\n",
       "    </tr>\n",
       "    <tr>\n",
       "      <th>3</th>\n",
       "      <td>2017-11-09T13:13:11.754Z</td>\n",
       "      <td>61.658900</td>\n",
       "      <td>-150.985200</td>\n",
       "      <td>68.00</td>\n",
       "      <td>1.30</td>\n",
       "      <td>ml</td>\n",
       "      <td>NaN</td>\n",
       "      <td>NaN</td>\n",
       "      <td>NaN</td>\n",
       "      <td>0.23</td>\n",
       "      <td>...</td>\n",
       "      <td>2017-11-09T13:16:21.674Z</td>\n",
       "      <td>51km W of Willow, Alaska</td>\n",
       "      <td>earthquake</td>\n",
       "      <td>NaN</td>\n",
       "      <td>0.80</td>\n",
       "      <td>NaN</td>\n",
       "      <td>NaN</td>\n",
       "      <td>automatic</td>\n",
       "      <td>ak</td>\n",
       "      <td>ak</td>\n",
       "    </tr>\n",
       "    <tr>\n",
       "      <th>4</th>\n",
       "      <td>2017-11-09T12:35:49.140Z</td>\n",
       "      <td>38.817501</td>\n",
       "      <td>-122.786667</td>\n",
       "      <td>1.17</td>\n",
       "      <td>0.85</td>\n",
       "      <td>md</td>\n",
       "      <td>8.0</td>\n",
       "      <td>117.0</td>\n",
       "      <td>0.006307</td>\n",
       "      <td>0.02</td>\n",
       "      <td>...</td>\n",
       "      <td>2017-11-09T12:58:02.777Z</td>\n",
       "      <td>5km W of Cobb, California</td>\n",
       "      <td>earthquake</td>\n",
       "      <td>0.47</td>\n",
       "      <td>0.39</td>\n",
       "      <td>0.07</td>\n",
       "      <td>3.0</td>\n",
       "      <td>automatic</td>\n",
       "      <td>nc</td>\n",
       "      <td>nc</td>\n",
       "    </tr>\n",
       "  </tbody>\n",
       "</table>\n",
       "<p>5 rows × 22 columns</p>\n",
       "</div>"
      ],
      "text/plain": [
       "                       time   latitude   longitude   depth   mag magType  \\\n",
       "0  2017-11-09T14:03:55.926Z  64.614300 -149.396800   19.50  1.60      ml   \n",
       "1  2017-11-09T13:27:52.200Z  35.845833 -118.257167    1.69  1.27      ml   \n",
       "2  2017-11-09T13:26:10.467Z  59.781200 -153.322300  126.00  2.80      ml   \n",
       "3  2017-11-09T13:13:11.754Z  61.658900 -150.985200   68.00  1.30      ml   \n",
       "4  2017-11-09T12:35:49.140Z  38.817501 -122.786667    1.17  0.85      md   \n",
       "\n",
       "    nst    gap      dmin   rms    ...                      updated  \\\n",
       "0   NaN    NaN       NaN  0.66    ...     2017-11-09T14:12:34.486Z   \n",
       "1  15.0   99.0  0.150400  0.18    ...     2017-11-09T13:31:25.279Z   \n",
       "2   NaN    NaN       NaN  0.57    ...     2017-11-09T13:38:45.397Z   \n",
       "3   NaN    NaN       NaN  0.23    ...     2017-11-09T13:16:21.674Z   \n",
       "4   8.0  117.0  0.006307  0.02    ...     2017-11-09T12:58:02.777Z   \n",
       "\n",
       "                              place        type horizontalError depthError  \\\n",
       "0  14km WNW of North Nenana, Alaska  earthquake             NaN       0.10   \n",
       "1          18km NE of Kernville, CA  earthquake            0.40       0.81   \n",
       "2    83km W of Anchor Point, Alaska  earthquake             NaN       0.40   \n",
       "3          51km W of Willow, Alaska  earthquake             NaN       0.80   \n",
       "4         5km W of Cobb, California  earthquake            0.47       0.39   \n",
       "\n",
       "   magError  magNst     status  locationSource magSource  \n",
       "0       NaN     NaN  automatic              ak        ak  \n",
       "1      0.21    15.0  automatic              ci        ci  \n",
       "2       NaN     NaN  automatic              ak        ak  \n",
       "3       NaN     NaN  automatic              ak        ak  \n",
       "4      0.07     3.0  automatic              nc        nc  \n",
       "\n",
       "[5 rows x 22 columns]"
      ]
     },
     "execution_count": 11,
     "metadata": {},
     "output_type": "execute_result"
    }
   ],
   "source": [
    "# Use Pandas to read a CSV from the USGS feed of earthquakes from the last 30 days\n",
    "earthquakes = pd.read_csv('https://earthquake.usgs.gov/earthquakes/feed/v1.0/summary/all_month.csv')\n",
    "earthquakes.head()"
   ]
  },
  {
   "cell_type": "code",
   "execution_count": 12,
   "metadata": {
    "collapsed": false,
    "scrolled": true
   },
   "outputs": [
    {
     "name": "stdout",
     "output_type": "stream",
     "text": [
      "The following columns were changed in the CARTO copy of this dataframe:\n",
      "\u001b[1mmagType\u001b[0m -> \u001b[1mmagtype\u001b[0m\n",
      "\u001b[1mhorizontalError\u001b[0m -> \u001b[1mhorizontalerror\u001b[0m\n",
      "\u001b[1mdepthError\u001b[0m -> \u001b[1mdeptherror\u001b[0m\n",
      "\u001b[1mmagError\u001b[0m -> \u001b[1mmagerror\u001b[0m\n",
      "\u001b[1mmagNst\u001b[0m -> \u001b[1mmagnst\u001b[0m\n",
      "\u001b[1mlocationSource\u001b[0m -> \u001b[1mlocationsource\u001b[0m\n",
      "\u001b[1mmagSource\u001b[0m -> \u001b[1mmagsource\u001b[0m\n",
      "Table successfully written to CARTO: https://michellemho-carto.carto.com/dataset/earthquakes_30\n"
     ]
    }
   ],
   "source": [
    "# Write earthquake data to CARTO\n",
    "cc.write(earthquakes, 'earthquakes_30', lnglat=('longitude','latitude'), overwrite=True)"
   ]
  },
  {
   "cell_type": "code",
   "execution_count": 13,
   "metadata": {
    "collapsed": false,
    "scrolled": true
   },
   "outputs": [
    {
     "data": {
      "text/html": [
       "<iframe srcdoc=\"<!DOCTYPE html>\n",
       "<html>\n",
       "  <head>\n",
       "    <title>Carto</title>\n",
       "    <meta name='viewport' content='initial-scale=1.0, user-scalable=no' />\n",
       "    <meta http-equiv='content-type' content='text/html; charset=UTF-8' />\n",
       "    <link rel='shortcut icon' href='http://cartodb.com/assets/favicon.ico' />\n",
       "\n",
       "    <style>\n",
       "     html, body, #map {\n",
       "       height: 100%;\n",
       "       padding: 0;\n",
       "       margin: 0;\n",
       "     }\n",
       "     #zoom-center {\n",
       "       position: absolute;\n",
       "       right: 0;\n",
       "       top: 0;\n",
       "       background-color: rgba(255, 255, 255, 0.7);\n",
       "       width: 240px;\n",
       "       z-index: 100;\n",
       "       padding: 4px;\n",
       "     }\n",
       "    </style>\n",
       "\n",
       "    <link rel='stylesheet' href='https://cartodb-libs.global.ssl.fastly.net/cartodb.js/v3/3.15/themes/css/cartodb.css' />\n",
       "  </head>\n",
       "  <body>\n",
       "    <div id='zoom-center'>\n",
       "      zoom=<span id='zoom'>4</span>,\n",
       "      lng=<span id='lon'>No data</span>, lat=<span id='lat'>No data</span></div>\n",
       "    <div id='map'></div>\n",
       "    <script src='https://cartodb-libs.global.ssl.fastly.net/cartodb.js/v3/3.15/cartodb.js'></script>\n",
       "\n",
       "    <script>\n",
       "     const config  = {&quot;tiler_domain&quot;: &quot;carto.com&quot;, &quot;maps_api_template&quot;: &quot;https://michellemho-carto.carto.com&quot;, &quot;named_map&quot;: {&quot;name&quot;: &quot;cartoframes_ver20170406_layers1_time0_baseid2_labels0_zoom0&quot;, &quot;params&quot;: {&quot;south&quot;: -64.8945, &quot;cartocss_0&quot;: &quot;#layer[&#92;'mapnik::geometry_type&#92;'=1] {  marker-allow-overlap: true; marker-fill: #5D69B1; marker-width: 10; marker-line-width: 0.5; marker-fill-opacity: 1; marker-line-opacity: 1; marker-line-color: #FFF;} #layer[&#92;'mapnik::geometry_type&#92;'=3] {  line-opacity: 0.25; line-comp-op: hard-light; polygon-gamma: 0.5; polygon-opacity: 0.9; line-width: 0.5; line-color: #FFF; polygon-fill: #5D69B1;} #layer[&#92;'mapnik::geometry_type&#92;'=2] {  line-width: 1.5; line-color: #5D69B1;} &quot;, &quot;east&quot;: 179.961, &quot;sql_0&quot;: &quot;SELECT * FROM earthquakes_30&quot;, &quot;west&quot;: -179.9713, &quot;basemap_url&quot;: &quot;https://cartodb-basemaps-{s}.global.ssl.fastly.net/rastertiles/voyager_labels_under/{z}/{x}/{y}.png&quot;, &quot;north&quot;: 86.8932}}, &quot;tiler_port&quot;: &quot;80&quot;, &quot;sql_api_template&quot;: &quot;https://michellemho-carto.carto.com&quot;, &quot;user_name&quot;: &quot;michellemho-carto&quot;, &quot;type&quot;: &quot;namedmap&quot;, &quot;tiler_protocol&quot;: &quot;https&quot;};\n",
       "     const bounds  = [[86.8932, 179.961], [-64.8945, -179.9713]];\n",
       "     const options = {&quot;https&quot;: true, &quot;filter&quot;: [&quot;http&quot;, &quot;mapnik&quot;, &quot;torque&quot;]};\n",
       "\n",
       "     const adjustLongitude = (lng) => (\n",
       "       lng - ((Math.ceil((lng + 180) / 360) - 1) * 360)\n",
       "     );\n",
       "     const map = L.map('map', {\n",
       "       zoom: 3,\n",
       "       center: [0, 0],\n",
       "     });\n",
       "     if (config.type === 'torque') {\n",
       "         L.tileLayer(config.named_map.params.basemap_url, {\n",
       "             attribution: &quot;&copy; <a href=\\&quot;http://www.openstreetmap.org/copyright\\&quot;>OpenStreetMap</a>&quot;\n",
       "         }).addTo(map);\n",
       "     };\n",
       "     const updateMapInfo = () => {\n",
       "       $('#zoom').text(map.getZoom());\n",
       "       $('#lat').text(map.getCenter().lat.toFixed(4));\n",
       "       $('#lon').text(adjustLongitude(map.getCenter().lng).toFixed(4));\n",
       "     };\n",
       "\n",
       "     cartodb.createLayer(map, config, options)\n",
       "            .addTo(map)\n",
       "            .done((layer) => {\n",
       "              if (bounds.length) {\n",
       "                map.fitBounds(bounds);\n",
       "              }\n",
       "              updateMapInfo();\n",
       "              map.on('move', () => {\n",
       "                updateMapInfo();\n",
       "              });\n",
       "            })\n",
       "            .error((err) => {\n",
       "              console.log('ERROR: ', err);\n",
       "            });\n",
       "    </script>\n",
       "\n",
       "  </body>\n",
       "</html>\n",
       "\" width=800 height=400>  Preview image: <img src=\"https://michellemho-carto.carto.com/api/v1/map/static/named/cartoframes_ver20170406_layers1_time0_baseid2_labels0_zoom0/800/400.png?config=%7B%22basemap_url%22%3A+%22https%3A%2F%2Fcartodb-basemaps-%7Bs%7D.global.ssl.fastly.net%2Frastertiles%2Fvoyager_labels_under%2F%7Bz%7D%2F%7Bx%7D%2F%7By%7D.png%22%2C+%22sql_0%22%3A+%22SELECT+%2A+FROM+earthquakes_30%22%2C+%22cartocss_0%22%3A+%22%23layer%5B%27mapnik%3A%3Ageometry_type%27%3D1%5D+%7B++marker-allow-overlap%3A+true%3B+marker-fill%3A+%235D69B1%3B+marker-width%3A+10%3B+marker-line-width%3A+0.5%3B+marker-fill-opacity%3A+1%3B+marker-line-opacity%3A+1%3B+marker-line-color%3A+%23FFF%3B%7D+%23layer%5B%27mapnik%3A%3Ageometry_type%27%3D3%5D+%7B++line-opacity%3A+0.25%3B+line-comp-op%3A+hard-light%3B+polygon-gamma%3A+0.5%3B+polygon-opacity%3A+0.9%3B+line-width%3A+0.5%3B+line-color%3A+%23FFF%3B+polygon-fill%3A+%235D69B1%3B%7D+%23layer%5B%27mapnik%3A%3Ageometry_type%27%3D2%5D+%7B++line-width%3A+1.5%3B+line-color%3A+%235D69B1%3B%7D+%22%7D&bbox=-179.9713%2C-64.8945%2C179.961%2C86.8932&anti_cache=0.09195488799899743\" /></iframe>"
      ],
      "text/plain": [
       "<IPython.core.display.HTML object>"
      ]
     },
     "execution_count": 13,
     "metadata": {},
     "output_type": "execute_result"
    }
   ],
   "source": [
    "# Map the earthquake data\n",
    "cc.map(layers=[Layer('earthquakes_30')])"
   ]
  },
  {
   "cell_type": "code",
   "execution_count": 14,
   "metadata": {
    "collapsed": false
   },
   "outputs": [
    {
     "data": {
      "text/html": [
       "<iframe srcdoc=\"<!DOCTYPE html>\n",
       "<html>\n",
       "  <head>\n",
       "    <title>Carto</title>\n",
       "    <meta name='viewport' content='initial-scale=1.0, user-scalable=no' />\n",
       "    <meta http-equiv='content-type' content='text/html; charset=UTF-8' />\n",
       "    <link rel='shortcut icon' href='http://cartodb.com/assets/favicon.ico' />\n",
       "\n",
       "    <style>\n",
       "     html, body, #map {\n",
       "       height: 100%;\n",
       "       padding: 0;\n",
       "       margin: 0;\n",
       "     }\n",
       "     #zoom-center {\n",
       "       position: absolute;\n",
       "       right: 0;\n",
       "       top: 0;\n",
       "       background-color: rgba(255, 255, 255, 0.7);\n",
       "       width: 240px;\n",
       "       z-index: 100;\n",
       "       padding: 4px;\n",
       "     }\n",
       "    </style>\n",
       "\n",
       "    <link rel='stylesheet' href='https://cartodb-libs.global.ssl.fastly.net/cartodb.js/v3/3.15/themes/css/cartodb.css' />\n",
       "  </head>\n",
       "  <body>\n",
       "    <div id='zoom-center'>\n",
       "      zoom=<span id='zoom'>4</span>,\n",
       "      lng=<span id='lon'>No data</span>, lat=<span id='lat'>No data</span></div>\n",
       "    <div id='map'></div>\n",
       "    <script src='https://cartodb-libs.global.ssl.fastly.net/cartodb.js/v3/3.15/cartodb.js'></script>\n",
       "\n",
       "    <script>\n",
       "     const config  = {&quot;tiler_domain&quot;: &quot;carto.com&quot;, &quot;maps_api_template&quot;: &quot;https://michellemho-carto.carto.com&quot;, &quot;named_map&quot;: {&quot;name&quot;: &quot;cartoframes_ver20170406_layers1_time0_baseid2_labels0_zoom0&quot;, &quot;params&quot;: {&quot;south&quot;: -64.8945, &quot;cartocss_0&quot;: &quot;#layer[&#92;'mapnik::geometry_type&#92;'=1] {  marker-allow-overlap: true; marker-fill: ramp([mag], cartocolor(RedOr), equal(5), <=); marker-width: ramp([mag], range(5,25), equal(5)); marker-line-width: 0.5; marker-fill-opacity: 1; marker-line-opacity: 1; marker-line-color: #FFF;} #layer[&#92;'mapnik::geometry_type&#92;'=3] {  line-opacity: 0.25; line-comp-op: hard-light; polygon-gamma: 0.5; polygon-opacity: 0.9; line-width: 0.5; line-color: #FFF; polygon-fill: ramp([mag], cartocolor(RedOr), equal(5), <=);} #layer[&#92;'mapnik::geometry_type&#92;'=2] {  line-width: 1.5; line-color: ramp([mag], cartocolor(RedOr), equal(5), <=);} &quot;, &quot;east&quot;: 179.961, &quot;sql_0&quot;: &quot;SELECT * FROM earthquakes_30&quot;, &quot;west&quot;: -179.9713, &quot;basemap_url&quot;: &quot;https://cartodb-basemaps-{s}.global.ssl.fastly.net/rastertiles/voyager_labels_under/{z}/{x}/{y}.png&quot;, &quot;north&quot;: 86.8932}}, &quot;tiler_port&quot;: &quot;80&quot;, &quot;sql_api_template&quot;: &quot;https://michellemho-carto.carto.com&quot;, &quot;user_name&quot;: &quot;michellemho-carto&quot;, &quot;type&quot;: &quot;namedmap&quot;, &quot;tiler_protocol&quot;: &quot;https&quot;};\n",
       "     const bounds  = [[86.8932, 179.961], [-64.8945, -179.9713]];\n",
       "     const options = {&quot;https&quot;: true, &quot;filter&quot;: [&quot;http&quot;, &quot;mapnik&quot;, &quot;torque&quot;]};\n",
       "\n",
       "     const adjustLongitude = (lng) => (\n",
       "       lng - ((Math.ceil((lng + 180) / 360) - 1) * 360)\n",
       "     );\n",
       "     const map = L.map('map', {\n",
       "       zoom: 3,\n",
       "       center: [0, 0],\n",
       "     });\n",
       "     if (config.type === 'torque') {\n",
       "         L.tileLayer(config.named_map.params.basemap_url, {\n",
       "             attribution: &quot;&copy; <a href=\\&quot;http://www.openstreetmap.org/copyright\\&quot;>OpenStreetMap</a>&quot;\n",
       "         }).addTo(map);\n",
       "     };\n",
       "     const updateMapInfo = () => {\n",
       "       $('#zoom').text(map.getZoom());\n",
       "       $('#lat').text(map.getCenter().lat.toFixed(4));\n",
       "       $('#lon').text(adjustLongitude(map.getCenter().lng).toFixed(4));\n",
       "     };\n",
       "\n",
       "     cartodb.createLayer(map, config, options)\n",
       "            .addTo(map)\n",
       "            .done((layer) => {\n",
       "              if (bounds.length) {\n",
       "                map.fitBounds(bounds);\n",
       "              }\n",
       "              updateMapInfo();\n",
       "              map.on('move', () => {\n",
       "                updateMapInfo();\n",
       "              });\n",
       "            })\n",
       "            .error((err) => {\n",
       "              console.log('ERROR: ', err);\n",
       "            });\n",
       "    </script>\n",
       "\n",
       "  </body>\n",
       "</html>\n",
       "\" width=800 height=400>  Preview image: <img src=\"https://michellemho-carto.carto.com/api/v1/map/static/named/cartoframes_ver20170406_layers1_time0_baseid2_labels0_zoom0/800/400.png?config=%7B%22basemap_url%22%3A+%22https%3A%2F%2Fcartodb-basemaps-%7Bs%7D.global.ssl.fastly.net%2Frastertiles%2Fvoyager_labels_under%2F%7Bz%7D%2F%7Bx%7D%2F%7By%7D.png%22%2C+%22sql_0%22%3A+%22SELECT+%2A+FROM+earthquakes_30%22%2C+%22cartocss_0%22%3A+%22%23layer%5B%27mapnik%3A%3Ageometry_type%27%3D1%5D+%7B++marker-allow-overlap%3A+true%3B+marker-fill%3A+ramp%28%5Bmag%5D%2C+cartocolor%28RedOr%29%2C+equal%285%29%2C+%3C%3D%29%3B+marker-width%3A+ramp%28%5Bmag%5D%2C+range%285%2C25%29%2C+equal%285%29%29%3B+marker-line-width%3A+0.5%3B+marker-fill-opacity%3A+1%3B+marker-line-opacity%3A+1%3B+marker-line-color%3A+%23FFF%3B%7D+%23layer%5B%27mapnik%3A%3Ageometry_type%27%3D3%5D+%7B++line-opacity%3A+0.25%3B+line-comp-op%3A+hard-light%3B+polygon-gamma%3A+0.5%3B+polygon-opacity%3A+0.9%3B+line-width%3A+0.5%3B+line-color%3A+%23FFF%3B+polygon-fill%3A+ramp%28%5Bmag%5D%2C+cartocolor%28RedOr%29%2C+equal%285%29%2C+%3C%3D%29%3B%7D+%23layer%5B%27mapnik%3A%3Ageometry_type%27%3D2%5D+%7B++line-width%3A+1.5%3B+line-color%3A+ramp%28%5Bmag%5D%2C+cartocolor%28RedOr%29%2C+equal%285%29%2C+%3C%3D%29%3B%7D+%22%7D&bbox=-179.9713%2C-64.8945%2C179.961%2C86.8932&anti_cache=0.20942955339487523\" /></iframe>"
      ],
      "text/plain": [
       "<IPython.core.display.HTML object>"
      ]
     },
     "execution_count": 14,
     "metadata": {},
     "output_type": "execute_result"
    }
   ],
   "source": [
    "# Style the color and size by the magnitude\n",
    "cc.map(layers=[Layer('earthquakes_30',\n",
    "       color={'column': 'mag', 'scheme': styling.redOr(5, bin_method='equal')},\n",
    "       size={'column':'mag', 'bins':5, 'bin_method':'equal'})])"
   ]
  },
  {
   "cell_type": "code",
   "execution_count": 15,
   "metadata": {
    "collapsed": false
   },
   "outputs": [],
   "source": [
    "# Try torque animation of time-stamp column\n",
    "\n",
    "# Just to make sure time-stamp column is a pandas date type\n",
    "earthquakes['time'] = pd.to_datetime(earthquakes.time)"
   ]
  },
  {
   "cell_type": "code",
   "execution_count": 16,
   "metadata": {
    "collapsed": false,
    "scrolled": false
   },
   "outputs": [
    {
     "data": {
      "text/html": [
       "<div>\n",
       "<style scoped>\n",
       "    .dataframe tbody tr th:only-of-type {\n",
       "        vertical-align: middle;\n",
       "    }\n",
       "\n",
       "    .dataframe tbody tr th {\n",
       "        vertical-align: top;\n",
       "    }\n",
       "\n",
       "    .dataframe thead th {\n",
       "        text-align: right;\n",
       "    }\n",
       "</style>\n",
       "<table border=\"1\" class=\"dataframe\">\n",
       "  <thead>\n",
       "    <tr style=\"text-align: right;\">\n",
       "      <th></th>\n",
       "      <th>time</th>\n",
       "      <th>latitude</th>\n",
       "      <th>longitude</th>\n",
       "      <th>depth</th>\n",
       "      <th>mag</th>\n",
       "      <th>magType</th>\n",
       "      <th>nst</th>\n",
       "      <th>gap</th>\n",
       "      <th>dmin</th>\n",
       "      <th>rms</th>\n",
       "      <th>...</th>\n",
       "      <th>updated</th>\n",
       "      <th>place</th>\n",
       "      <th>type</th>\n",
       "      <th>horizontalError</th>\n",
       "      <th>depthError</th>\n",
       "      <th>magError</th>\n",
       "      <th>magNst</th>\n",
       "      <th>status</th>\n",
       "      <th>locationSource</th>\n",
       "      <th>magSource</th>\n",
       "    </tr>\n",
       "  </thead>\n",
       "  <tbody>\n",
       "    <tr>\n",
       "      <th>0</th>\n",
       "      <td>2017-11-09 14:03:55.926</td>\n",
       "      <td>64.614300</td>\n",
       "      <td>-149.396800</td>\n",
       "      <td>19.50</td>\n",
       "      <td>1.60</td>\n",
       "      <td>ml</td>\n",
       "      <td>NaN</td>\n",
       "      <td>NaN</td>\n",
       "      <td>NaN</td>\n",
       "      <td>0.66</td>\n",
       "      <td>...</td>\n",
       "      <td>2017-11-09T14:12:34.486Z</td>\n",
       "      <td>14km WNW of North Nenana, Alaska</td>\n",
       "      <td>earthquake</td>\n",
       "      <td>NaN</td>\n",
       "      <td>0.10</td>\n",
       "      <td>NaN</td>\n",
       "      <td>NaN</td>\n",
       "      <td>automatic</td>\n",
       "      <td>ak</td>\n",
       "      <td>ak</td>\n",
       "    </tr>\n",
       "    <tr>\n",
       "      <th>1</th>\n",
       "      <td>2017-11-09 13:27:52.200</td>\n",
       "      <td>35.845833</td>\n",
       "      <td>-118.257167</td>\n",
       "      <td>1.69</td>\n",
       "      <td>1.27</td>\n",
       "      <td>ml</td>\n",
       "      <td>15.0</td>\n",
       "      <td>99.0</td>\n",
       "      <td>0.1504</td>\n",
       "      <td>0.18</td>\n",
       "      <td>...</td>\n",
       "      <td>2017-11-09T13:31:25.279Z</td>\n",
       "      <td>18km NE of Kernville, CA</td>\n",
       "      <td>earthquake</td>\n",
       "      <td>0.4</td>\n",
       "      <td>0.81</td>\n",
       "      <td>0.21</td>\n",
       "      <td>15.0</td>\n",
       "      <td>automatic</td>\n",
       "      <td>ci</td>\n",
       "      <td>ci</td>\n",
       "    </tr>\n",
       "  </tbody>\n",
       "</table>\n",
       "<p>2 rows × 22 columns</p>\n",
       "</div>"
      ],
      "text/plain": [
       "                     time   latitude   longitude  depth   mag magType   nst  \\\n",
       "0 2017-11-09 14:03:55.926  64.614300 -149.396800  19.50  1.60      ml   NaN   \n",
       "1 2017-11-09 13:27:52.200  35.845833 -118.257167   1.69  1.27      ml  15.0   \n",
       "\n",
       "    gap    dmin   rms    ...                      updated  \\\n",
       "0   NaN     NaN  0.66    ...     2017-11-09T14:12:34.486Z   \n",
       "1  99.0  0.1504  0.18    ...     2017-11-09T13:31:25.279Z   \n",
       "\n",
       "                              place        type horizontalError depthError  \\\n",
       "0  14km WNW of North Nenana, Alaska  earthquake             NaN       0.10   \n",
       "1          18km NE of Kernville, CA  earthquake             0.4       0.81   \n",
       "\n",
       "   magError  magNst     status  locationSource magSource  \n",
       "0       NaN     NaN  automatic              ak        ak  \n",
       "1      0.21    15.0  automatic              ci        ci  \n",
       "\n",
       "[2 rows x 22 columns]"
      ]
     },
     "execution_count": 16,
     "metadata": {},
     "output_type": "execute_result"
    }
   ],
   "source": [
    "earthquakes.head(2)"
   ]
  },
  {
   "cell_type": "code",
   "execution_count": null,
   "metadata": {
    "collapsed": false,
    "scrolled": true
   },
   "outputs": [
    {
     "name": "stdout",
     "output_type": "stream",
     "text": [
      "The following columns were changed in the CARTO copy of this dataframe:\n",
      "\u001b[1mmagType\u001b[0m -> \u001b[1mmagtype\u001b[0m\n",
      "\u001b[1mhorizontalError\u001b[0m -> \u001b[1mhorizontalerror\u001b[0m\n",
      "\u001b[1mdepthError\u001b[0m -> \u001b[1mdeptherror\u001b[0m\n",
      "\u001b[1mmagError\u001b[0m -> \u001b[1mmagerror\u001b[0m\n",
      "\u001b[1mmagNst\u001b[0m -> \u001b[1mmagnst\u001b[0m\n",
      "\u001b[1mlocationSource\u001b[0m -> \u001b[1mlocationsource\u001b[0m\n",
      "\u001b[1mmagSource\u001b[0m -> \u001b[1mmagsource\u001b[0m\n"
     ]
    }
   ],
   "source": [
    "# Update CARTO dataset\n",
    "cc.write(earthquakes, 'earthquakes_30', lnglat=('longitude','latitude'), overwrite=True)"
   ]
  },
  {
   "cell_type": "code",
   "execution_count": null,
   "metadata": {
    "collapsed": false,
    "scrolled": true
   },
   "outputs": [],
   "source": [
    "# Create an animated map by specifying the time of the layer\n",
    "cc.map(layers=[Layer('earthquakes_30', time = {'column':'time', 'method':'sum', 'trails':4, 'duration':30})])"
   ]
  },
  {
   "cell_type": "code",
   "execution_count": null,
   "metadata": {
    "collapsed": true
   },
   "outputs": [],
   "source": []
  }
 ],
 "metadata": {
  "anaconda-cloud": {},
  "kernelspec": {
   "display_name": "Python [default]",
   "language": "python",
   "name": "python3"
  },
  "language_info": {
   "codemirror_mode": {
    "name": "ipython",
    "version": 3
   },
   "file_extension": ".py",
   "mimetype": "text/x-python",
   "name": "python",
   "nbconvert_exporter": "python",
   "pygments_lexer": "ipython3",
   "version": "3.5.2"
  }
 },
 "nbformat": 4,
 "nbformat_minor": 2
}
