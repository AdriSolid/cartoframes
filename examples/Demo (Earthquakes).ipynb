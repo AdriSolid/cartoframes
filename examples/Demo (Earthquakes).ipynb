{
 "cells": [
  {
   "cell_type": "markdown",
   "metadata": {},
   "source": [
    "# Using CARTOframes to view earthquakes from the last 30 days"
   ]
  },
  {
   "cell_type": "code",
   "execution_count": 1,
   "metadata": {
    "collapsed": true
   },
   "outputs": [],
   "source": [
    "import cartoframes\n",
    "from cartoframes import Credentials\n",
    "from cartoframes import Layer, BaseMap, styling\n",
    "import pandas as pd\n",
    "%matplotlib inline"
   ]
  },
  {
   "cell_type": "code",
   "execution_count": 24,
   "metadata": {
    "collapsed": false
   },
   "outputs": [],
   "source": [
    "USERNAME = 'michellemho-carto'  # <-- replace with your username \n",
    "APIKEY = 'abcde'       # <-- your CARTO API key\n",
    "creds = Credentials(username=USERNAME, \n",
    "                    key=APIKEY)\n",
    "creds.save()  # save credentials for later use (not dependent on Python session)\n",
    "cc = cartoframes.CartoContext(creds)"
   ]
  },
  {
   "cell_type": "code",
   "execution_count": 2,
   "metadata": {
    "collapsed": true
   },
   "outputs": [],
   "source": [
    "cc = cartoframes.CartoContext()"
   ]
  },
  {
   "cell_type": "code",
   "execution_count": 4,
   "metadata": {
    "collapsed": false,
    "scrolled": true
   },
   "outputs": [
    {
     "data": {
      "text/html": [
       "<div>\n",
       "<style>\n",
       "    .dataframe thead tr:only-child th {\n",
       "        text-align: right;\n",
       "    }\n",
       "\n",
       "    .dataframe thead th {\n",
       "        text-align: left;\n",
       "    }\n",
       "\n",
       "    .dataframe tbody tr th {\n",
       "        vertical-align: top;\n",
       "    }\n",
       "</style>\n",
       "<table border=\"1\" class=\"dataframe\">\n",
       "  <thead>\n",
       "    <tr style=\"text-align: right;\">\n",
       "      <th></th>\n",
       "      <th>time</th>\n",
       "      <th>latitude</th>\n",
       "      <th>longitude</th>\n",
       "      <th>depth</th>\n",
       "      <th>mag</th>\n",
       "      <th>magType</th>\n",
       "      <th>nst</th>\n",
       "      <th>gap</th>\n",
       "      <th>dmin</th>\n",
       "      <th>rms</th>\n",
       "      <th>...</th>\n",
       "      <th>updated</th>\n",
       "      <th>place</th>\n",
       "      <th>type</th>\n",
       "      <th>horizontalError</th>\n",
       "      <th>depthError</th>\n",
       "      <th>magError</th>\n",
       "      <th>magNst</th>\n",
       "      <th>status</th>\n",
       "      <th>locationSource</th>\n",
       "      <th>magSource</th>\n",
       "    </tr>\n",
       "  </thead>\n",
       "  <tbody>\n",
       "    <tr>\n",
       "      <th>0</th>\n",
       "      <td>2017-11-07T20:20:04.691Z</td>\n",
       "      <td>60.231900</td>\n",
       "      <td>-141.676800</td>\n",
       "      <td>0.10</td>\n",
       "      <td>2.00</td>\n",
       "      <td>ml</td>\n",
       "      <td>NaN</td>\n",
       "      <td>NaN</td>\n",
       "      <td>NaN</td>\n",
       "      <td>0.63</td>\n",
       "      <td>...</td>\n",
       "      <td>2017-11-07T20:26:56.545Z</td>\n",
       "      <td>45km ENE of Cape Yakataga, Alaska</td>\n",
       "      <td>earthquake</td>\n",
       "      <td>NaN</td>\n",
       "      <td>0.30</td>\n",
       "      <td>NaN</td>\n",
       "      <td>NaN</td>\n",
       "      <td>automatic</td>\n",
       "      <td>ak</td>\n",
       "      <td>ak</td>\n",
       "    </tr>\n",
       "    <tr>\n",
       "      <th>1</th>\n",
       "      <td>2017-11-07T20:09:49.420Z</td>\n",
       "      <td>33.468500</td>\n",
       "      <td>-116.466667</td>\n",
       "      <td>6.86</td>\n",
       "      <td>1.94</td>\n",
       "      <td>ml</td>\n",
       "      <td>69.0</td>\n",
       "      <td>57.0</td>\n",
       "      <td>0.06458</td>\n",
       "      <td>0.22</td>\n",
       "      <td>...</td>\n",
       "      <td>2017-11-07T20:21:04.820Z</td>\n",
       "      <td>22km ESE of Anza, CA</td>\n",
       "      <td>earthquake</td>\n",
       "      <td>0.20</td>\n",
       "      <td>0.65</td>\n",
       "      <td>0.173</td>\n",
       "      <td>26.0</td>\n",
       "      <td>automatic</td>\n",
       "      <td>ci</td>\n",
       "      <td>ci</td>\n",
       "    </tr>\n",
       "    <tr>\n",
       "      <th>2</th>\n",
       "      <td>2017-11-07T20:08:38.028Z</td>\n",
       "      <td>60.234800</td>\n",
       "      <td>-141.678900</td>\n",
       "      <td>0.00</td>\n",
       "      <td>1.90</td>\n",
       "      <td>ml</td>\n",
       "      <td>NaN</td>\n",
       "      <td>NaN</td>\n",
       "      <td>NaN</td>\n",
       "      <td>0.60</td>\n",
       "      <td>...</td>\n",
       "      <td>2017-11-07T20:12:33.410Z</td>\n",
       "      <td>45km ENE of Cape Yakataga, Alaska</td>\n",
       "      <td>earthquake</td>\n",
       "      <td>NaN</td>\n",
       "      <td>0.30</td>\n",
       "      <td>NaN</td>\n",
       "      <td>NaN</td>\n",
       "      <td>automatic</td>\n",
       "      <td>ak</td>\n",
       "      <td>ak</td>\n",
       "    </tr>\n",
       "    <tr>\n",
       "      <th>3</th>\n",
       "      <td>2017-11-07T20:04:26.939Z</td>\n",
       "      <td>58.200800</td>\n",
       "      <td>-151.512900</td>\n",
       "      <td>27.50</td>\n",
       "      <td>2.20</td>\n",
       "      <td>ml</td>\n",
       "      <td>NaN</td>\n",
       "      <td>NaN</td>\n",
       "      <td>NaN</td>\n",
       "      <td>0.52</td>\n",
       "      <td>...</td>\n",
       "      <td>2017-11-07T20:08:42.292Z</td>\n",
       "      <td>69km NE of Kodiak, Alaska</td>\n",
       "      <td>earthquake</td>\n",
       "      <td>NaN</td>\n",
       "      <td>0.30</td>\n",
       "      <td>NaN</td>\n",
       "      <td>NaN</td>\n",
       "      <td>automatic</td>\n",
       "      <td>ak</td>\n",
       "      <td>ak</td>\n",
       "    </tr>\n",
       "    <tr>\n",
       "      <th>4</th>\n",
       "      <td>2017-11-07T19:59:39.720Z</td>\n",
       "      <td>33.487333</td>\n",
       "      <td>-116.792833</td>\n",
       "      <td>4.44</td>\n",
       "      <td>0.50</td>\n",
       "      <td>ml</td>\n",
       "      <td>20.0</td>\n",
       "      <td>37.0</td>\n",
       "      <td>0.10520</td>\n",
       "      <td>0.18</td>\n",
       "      <td>...</td>\n",
       "      <td>2017-11-07T20:03:23.319Z</td>\n",
       "      <td>8km NE of Aguanga, CA</td>\n",
       "      <td>earthquake</td>\n",
       "      <td>0.28</td>\n",
       "      <td>0.86</td>\n",
       "      <td>0.085</td>\n",
       "      <td>15.0</td>\n",
       "      <td>automatic</td>\n",
       "      <td>ci</td>\n",
       "      <td>ci</td>\n",
       "    </tr>\n",
       "  </tbody>\n",
       "</table>\n",
       "<p>5 rows × 22 columns</p>\n",
       "</div>"
      ],
      "text/plain": [
       "                       time   latitude   longitude  depth   mag magType   nst  \\\n",
       "0  2017-11-07T20:20:04.691Z  60.231900 -141.676800   0.10  2.00      ml   NaN   \n",
       "1  2017-11-07T20:09:49.420Z  33.468500 -116.466667   6.86  1.94      ml  69.0   \n",
       "2  2017-11-07T20:08:38.028Z  60.234800 -141.678900   0.00  1.90      ml   NaN   \n",
       "3  2017-11-07T20:04:26.939Z  58.200800 -151.512900  27.50  2.20      ml   NaN   \n",
       "4  2017-11-07T19:59:39.720Z  33.487333 -116.792833   4.44  0.50      ml  20.0   \n",
       "\n",
       "    gap     dmin   rms    ...                      updated  \\\n",
       "0   NaN      NaN  0.63    ...     2017-11-07T20:26:56.545Z   \n",
       "1  57.0  0.06458  0.22    ...     2017-11-07T20:21:04.820Z   \n",
       "2   NaN      NaN  0.60    ...     2017-11-07T20:12:33.410Z   \n",
       "3   NaN      NaN  0.52    ...     2017-11-07T20:08:42.292Z   \n",
       "4  37.0  0.10520  0.18    ...     2017-11-07T20:03:23.319Z   \n",
       "\n",
       "                               place        type horizontalError depthError  \\\n",
       "0  45km ENE of Cape Yakataga, Alaska  earthquake             NaN       0.30   \n",
       "1               22km ESE of Anza, CA  earthquake            0.20       0.65   \n",
       "2  45km ENE of Cape Yakataga, Alaska  earthquake             NaN       0.30   \n",
       "3          69km NE of Kodiak, Alaska  earthquake             NaN       0.30   \n",
       "4              8km NE of Aguanga, CA  earthquake            0.28       0.86   \n",
       "\n",
       "   magError  magNst     status  locationSource magSource  \n",
       "0       NaN     NaN  automatic              ak        ak  \n",
       "1     0.173    26.0  automatic              ci        ci  \n",
       "2       NaN     NaN  automatic              ak        ak  \n",
       "3       NaN     NaN  automatic              ak        ak  \n",
       "4     0.085    15.0  automatic              ci        ci  \n",
       "\n",
       "[5 rows x 22 columns]"
      ]
     },
     "execution_count": 4,
     "metadata": {},
     "output_type": "execute_result"
    }
   ],
   "source": [
    "# Use Pandas to read a CSV from the USGS feed of earthquakes from the last 30 days\n",
    "earthquakes = pd.read_csv('https://earthquake.usgs.gov/earthquakes/feed/v1.0/summary/all_month.csv')\n",
    "earthquakes.head()"
   ]
  },
  {
   "cell_type": "code",
   "execution_count": 7,
   "metadata": {
    "collapsed": false,
    "scrolled": true
   },
   "outputs": [
    {
     "name": "stdout",
     "output_type": "stream",
     "text": [
      "The following columns were changed in the CARTO copy of this dataframe:\n",
      "\u001b[1mmagType\u001b[0m -> \u001b[1mmagtype\u001b[0m\n",
      "\u001b[1mhorizontalError\u001b[0m -> \u001b[1mhorizontalerror\u001b[0m\n",
      "\u001b[1mdepthError\u001b[0m -> \u001b[1mdeptherror\u001b[0m\n",
      "\u001b[1mmagError\u001b[0m -> \u001b[1mmagerror\u001b[0m\n",
      "\u001b[1mmagNst\u001b[0m -> \u001b[1mmagnst\u001b[0m\n",
      "\u001b[1mlocationSource\u001b[0m -> \u001b[1mlocationsource\u001b[0m\n",
      "\u001b[1mmagSource\u001b[0m -> \u001b[1mmagsource\u001b[0m\n",
      "Table successfully written to CARTO: https://michellemho-carto.carto.com/dataset/earthquakes_30\n"
     ]
    }
   ],
   "source": [
    "# Write earthquake data to CARTO\n",
    "cc.write(earthquakes, 'earthquakes_30', lnglat=('longitude','latitude'), overwrite=True)"
   ]
  },
  {
   "cell_type": "code",
   "execution_count": 8,
   "metadata": {
    "collapsed": false,
    "scrolled": true
   },
   "outputs": [
    {
     "data": {
      "text/html": [
       "<iframe srcdoc=\"<!DOCTYPE html>\n",
       "<html>\n",
       "  <head>\n",
       "    <title>Carto</title>\n",
       "    <meta name='viewport' content='initial-scale=1.0, user-scalable=no' />\n",
       "    <meta http-equiv='content-type' content='text/html; charset=UTF-8' />\n",
       "    <link rel='shortcut icon' href='http://cartodb.com/assets/favicon.ico' />\n",
       "\n",
       "    <style>\n",
       "     html, body, #map {\n",
       "       height: 100%;\n",
       "       padding: 0;\n",
       "       margin: 0;\n",
       "     }\n",
       "     #zoom-center {\n",
       "       position: absolute;\n",
       "       right: 0;\n",
       "       top: 0;\n",
       "       background-color: rgba(255, 255, 255, 0.7);\n",
       "       width: 240px;\n",
       "       z-index: 100;\n",
       "       padding: 4px;\n",
       "     }\n",
       "    </style>\n",
       "\n",
       "    <link rel='stylesheet' href='https://cartodb-libs.global.ssl.fastly.net/cartodb.js/v3/3.15/themes/css/cartodb.css' />\n",
       "  </head>\n",
       "  <body>\n",
       "    <div id='zoom-center'>\n",
       "      zoom=<span id='zoom'>4</span>,\n",
       "      lng=<span id='lon'>No data</span>, lat=<span id='lat'>No data</span></div>\n",
       "    <div id='map'></div>\n",
       "    <script src='https://cartodb-libs.global.ssl.fastly.net/cartodb.js/v3/3.15/cartodb.js'></script>\n",
       "\n",
       "    <script>\n",
       "     const config  = {&quot;maps_api_template&quot;: &quot;https://michellemho-carto.carto.com&quot;, &quot;sql_api_template&quot;: &quot;https://michellemho-carto.carto.com&quot;, &quot;user_name&quot;: &quot;michellemho-carto&quot;, &quot;type&quot;: &quot;namedmap&quot;, &quot;named_map&quot;: {&quot;params&quot;: {&quot;cartocss_0&quot;: &quot;#layer[&#92;'mapnik::geometry_type&#92;'=1] {  marker-width: 10; marker-fill-opacity: 1; marker-allow-overlap: true; marker-line-width: 0.5; marker-fill: #5D69B1; marker-line-opacity: 1; marker-line-color: #FFF;} #layer[&#92;'mapnik::geometry_type&#92;'=3] {  polygon-fill: #5D69B1; line-opacity: 0.25; line-width: 0.5; polygon-opacity: 0.9; line-color: #FFF; line-comp-op: hard-light; polygon-gamma: 0.5;} #layer[&#92;'mapnik::geometry_type&#92;'=2] {  line-width: 1.5; line-color: #5D69B1;} &quot;, &quot;basemap_url&quot;: &quot;https://cartodb-basemaps-{s}.global.ssl.fastly.net/rastertiles/voyager_labels_under/{z}/{x}/{y}.png&quot;, &quot;south&quot;: -64.8945, &quot;sql_0&quot;: &quot;SELECT * FROM earthquakes_30&quot;, &quot;west&quot;: -179.9713, &quot;north&quot;: 86.8932, &quot;east&quot;: 179.961}, &quot;name&quot;: &quot;cartoframes_ver20170406_layers1_time0_baseid2_labels0_zoom0&quot;}, &quot;tiler_protocol&quot;: &quot;https&quot;, &quot;tiler_domain&quot;: &quot;carto.com&quot;, &quot;tiler_port&quot;: &quot;80&quot;};\n",
       "     const bounds  = [[86.8932, 179.961], [-64.8945, -179.9713]];\n",
       "     const options = {&quot;https&quot;: true, &quot;filter&quot;: [&quot;http&quot;, &quot;mapnik&quot;, &quot;torque&quot;]};\n",
       "\n",
       "     const adjustLongitude = (lng) => (\n",
       "       lng - ((Math.ceil((lng + 180) / 360) - 1) * 360)\n",
       "     );\n",
       "     const map = L.map('map', {\n",
       "       zoom: 3,\n",
       "       center: [0, 0],\n",
       "     });\n",
       "     if (config.type === 'torque') {\n",
       "         L.tileLayer(config.named_map.params.basemap_url, {\n",
       "             attribution: &quot;&copy; <a href=\\&quot;http://www.openstreetmap.org/copyright\\&quot;>OpenStreetMap</a>&quot;\n",
       "         }).addTo(map);\n",
       "     };\n",
       "     const updateMapInfo = () => {\n",
       "       $('#zoom').text(map.getZoom());\n",
       "       $('#lat').text(map.getCenter().lat.toFixed(4));\n",
       "       $('#lon').text(adjustLongitude(map.getCenter().lng).toFixed(4));\n",
       "     };\n",
       "\n",
       "     cartodb.createLayer(map, config, options)\n",
       "            .addTo(map)\n",
       "            .done((layer) => {\n",
       "              if (bounds.length) {\n",
       "                map.fitBounds(bounds);\n",
       "              }\n",
       "              updateMapInfo();\n",
       "              map.on('move', () => {\n",
       "                updateMapInfo();\n",
       "              });\n",
       "            })\n",
       "            .error((err) => {\n",
       "              console.log('ERROR: ', err);\n",
       "            });\n",
       "    </script>\n",
       "\n",
       "  </body>\n",
       "</html>\n",
       "\" width=800 height=400>  Preview image: <img src=\"https://michellemho-carto.carto.com/api/v1/map/static/named/cartoframes_ver20170406_layers1_time0_baseid2_labels0_zoom0/800/400.png?config=%7B%22cartocss_0%22%3A+%22%23layer%5B%27mapnik%3A%3Ageometry_type%27%3D1%5D+%7B++marker-width%3A+10%3B+marker-fill-opacity%3A+1%3B+marker-allow-overlap%3A+true%3B+marker-line-width%3A+0.5%3B+marker-fill%3A+%235D69B1%3B+marker-line-opacity%3A+1%3B+marker-line-color%3A+%23FFF%3B%7D+%23layer%5B%27mapnik%3A%3Ageometry_type%27%3D3%5D+%7B++polygon-fill%3A+%235D69B1%3B+line-opacity%3A+0.25%3B+line-width%3A+0.5%3B+polygon-opacity%3A+0.9%3B+line-color%3A+%23FFF%3B+line-comp-op%3A+hard-light%3B+polygon-gamma%3A+0.5%3B%7D+%23layer%5B%27mapnik%3A%3Ageometry_type%27%3D2%5D+%7B++line-width%3A+1.5%3B+line-color%3A+%235D69B1%3B%7D+%22%2C+%22basemap_url%22%3A+%22https%3A%2F%2Fcartodb-basemaps-%7Bs%7D.global.ssl.fastly.net%2Frastertiles%2Fvoyager_labels_under%2F%7Bz%7D%2F%7Bx%7D%2F%7By%7D.png%22%2C+%22sql_0%22%3A+%22SELECT+%2A+FROM+earthquakes_30%22%7D&bbox=-179.9713%2C-64.8945%2C179.961%2C86.8932&anti_cache=0.7594801733827748\" /></iframe>"
      ],
      "text/plain": [
       "<IPython.core.display.HTML object>"
      ]
     },
     "execution_count": 8,
     "metadata": {},
     "output_type": "execute_result"
    }
   ],
   "source": [
    "# Map the earthquake data\n",
    "cc.map(layers=[Layer('earthquakes_30')])"
   ]
  },
  {
   "cell_type": "code",
   "execution_count": 24,
   "metadata": {
    "collapsed": false
   },
   "outputs": [
    {
     "data": {
      "text/html": [
       "<iframe srcdoc=\"<!DOCTYPE html>\n",
       "<html>\n",
       "  <head>\n",
       "    <title>Carto</title>\n",
       "    <meta name='viewport' content='initial-scale=1.0, user-scalable=no' />\n",
       "    <meta http-equiv='content-type' content='text/html; charset=UTF-8' />\n",
       "    <link rel='shortcut icon' href='http://cartodb.com/assets/favicon.ico' />\n",
       "\n",
       "    <style>\n",
       "     html, body, #map {\n",
       "       height: 100%;\n",
       "       padding: 0;\n",
       "       margin: 0;\n",
       "     }\n",
       "     #zoom-center {\n",
       "       position: absolute;\n",
       "       right: 0;\n",
       "       top: 0;\n",
       "       background-color: rgba(255, 255, 255, 0.7);\n",
       "       width: 240px;\n",
       "       z-index: 100;\n",
       "       padding: 4px;\n",
       "     }\n",
       "    </style>\n",
       "\n",
       "    <link rel='stylesheet' href='https://cartodb-libs.global.ssl.fastly.net/cartodb.js/v3/3.15/themes/css/cartodb.css' />\n",
       "  </head>\n",
       "  <body>\n",
       "    <div id='zoom-center'>\n",
       "      zoom=<span id='zoom'>4</span>,\n",
       "      lng=<span id='lon'>No data</span>, lat=<span id='lat'>No data</span></div>\n",
       "    <div id='map'></div>\n",
       "    <script src='https://cartodb-libs.global.ssl.fastly.net/cartodb.js/v3/3.15/cartodb.js'></script>\n",
       "\n",
       "    <script>\n",
       "     const config  = {&quot;maps_api_template&quot;: &quot;https://michellemho-carto.carto.com&quot;, &quot;sql_api_template&quot;: &quot;https://michellemho-carto.carto.com&quot;, &quot;user_name&quot;: &quot;michellemho-carto&quot;, &quot;type&quot;: &quot;namedmap&quot;, &quot;named_map&quot;: {&quot;params&quot;: {&quot;cartocss_0&quot;: &quot;#layer[&#92;'mapnik::geometry_type&#92;'=1] {  marker-width: ramp([mag], range(5,25), equal(5)); marker-fill-opacity: 1; marker-allow-overlap: true; marker-line-width: 0.5; marker-fill: ramp([mag], cartocolor(RedOr), equal(5), <=); marker-line-opacity: 1; marker-line-color: #FFF;} #layer[&#92;'mapnik::geometry_type&#92;'=3] {  polygon-fill: ramp([mag], cartocolor(RedOr), equal(5), <=); line-opacity: 0.25; line-width: 0.5; polygon-opacity: 0.9; line-color: #FFF; line-comp-op: hard-light; polygon-gamma: 0.5;} #layer[&#92;'mapnik::geometry_type&#92;'=2] {  line-width: 1.5; line-color: ramp([mag], cartocolor(RedOr), equal(5), <=);} &quot;, &quot;basemap_url&quot;: &quot;https://cartodb-basemaps-{s}.global.ssl.fastly.net/rastertiles/voyager_labels_under/{z}/{x}/{y}.png&quot;, &quot;south&quot;: -64.8945, &quot;sql_0&quot;: &quot;SELECT * FROM earthquakes_30&quot;, &quot;west&quot;: -179.9713, &quot;north&quot;: 86.8932, &quot;east&quot;: 179.961}, &quot;name&quot;: &quot;cartoframes_ver20170406_layers1_time0_baseid2_labels0_zoom0&quot;}, &quot;tiler_protocol&quot;: &quot;https&quot;, &quot;tiler_domain&quot;: &quot;carto.com&quot;, &quot;tiler_port&quot;: &quot;80&quot;};\n",
       "     const bounds  = [[86.8932, 179.961], [-64.8945, -179.9713]];\n",
       "     const options = {&quot;https&quot;: true, &quot;filter&quot;: [&quot;http&quot;, &quot;mapnik&quot;, &quot;torque&quot;]};\n",
       "\n",
       "     const adjustLongitude = (lng) => (\n",
       "       lng - ((Math.ceil((lng + 180) / 360) - 1) * 360)\n",
       "     );\n",
       "     const map = L.map('map', {\n",
       "       zoom: 3,\n",
       "       center: [0, 0],\n",
       "     });\n",
       "     if (config.type === 'torque') {\n",
       "         L.tileLayer(config.named_map.params.basemap_url, {\n",
       "             attribution: &quot;&copy; <a href=\\&quot;http://www.openstreetmap.org/copyright\\&quot;>OpenStreetMap</a>&quot;\n",
       "         }).addTo(map);\n",
       "     };\n",
       "     const updateMapInfo = () => {\n",
       "       $('#zoom').text(map.getZoom());\n",
       "       $('#lat').text(map.getCenter().lat.toFixed(4));\n",
       "       $('#lon').text(adjustLongitude(map.getCenter().lng).toFixed(4));\n",
       "     };\n",
       "\n",
       "     cartodb.createLayer(map, config, options)\n",
       "            .addTo(map)\n",
       "            .done((layer) => {\n",
       "              if (bounds.length) {\n",
       "                map.fitBounds(bounds);\n",
       "              }\n",
       "              updateMapInfo();\n",
       "              map.on('move', () => {\n",
       "                updateMapInfo();\n",
       "              });\n",
       "            })\n",
       "            .error((err) => {\n",
       "              console.log('ERROR: ', err);\n",
       "            });\n",
       "    </script>\n",
       "\n",
       "  </body>\n",
       "</html>\n",
       "\" width=800 height=400>  Preview image: <img src=\"https://michellemho-carto.carto.com/api/v1/map/static/named/cartoframes_ver20170406_layers1_time0_baseid2_labels0_zoom0/800/400.png?config=%7B%22cartocss_0%22%3A+%22%23layer%5B%27mapnik%3A%3Ageometry_type%27%3D1%5D+%7B++marker-width%3A+ramp%28%5Bmag%5D%2C+range%285%2C25%29%2C+equal%285%29%29%3B+marker-fill-opacity%3A+1%3B+marker-allow-overlap%3A+true%3B+marker-line-width%3A+0.5%3B+marker-fill%3A+ramp%28%5Bmag%5D%2C+cartocolor%28RedOr%29%2C+equal%285%29%2C+%3C%3D%29%3B+marker-line-opacity%3A+1%3B+marker-line-color%3A+%23FFF%3B%7D+%23layer%5B%27mapnik%3A%3Ageometry_type%27%3D3%5D+%7B++polygon-fill%3A+ramp%28%5Bmag%5D%2C+cartocolor%28RedOr%29%2C+equal%285%29%2C+%3C%3D%29%3B+line-opacity%3A+0.25%3B+line-width%3A+0.5%3B+polygon-opacity%3A+0.9%3B+line-color%3A+%23FFF%3B+line-comp-op%3A+hard-light%3B+polygon-gamma%3A+0.5%3B%7D+%23layer%5B%27mapnik%3A%3Ageometry_type%27%3D2%5D+%7B++line-width%3A+1.5%3B+line-color%3A+ramp%28%5Bmag%5D%2C+cartocolor%28RedOr%29%2C+equal%285%29%2C+%3C%3D%29%3B%7D+%22%2C+%22basemap_url%22%3A+%22https%3A%2F%2Fcartodb-basemaps-%7Bs%7D.global.ssl.fastly.net%2Frastertiles%2Fvoyager_labels_under%2F%7Bz%7D%2F%7Bx%7D%2F%7By%7D.png%22%2C+%22sql_0%22%3A+%22SELECT+%2A+FROM+earthquakes_30%22%7D&bbox=-179.9713%2C-64.8945%2C179.961%2C86.8932&anti_cache=0.5144177426509999\" /></iframe>"
      ],
      "text/plain": [
       "<IPython.core.display.HTML object>"
      ]
     },
     "execution_count": 24,
     "metadata": {},
     "output_type": "execute_result"
    }
   ],
   "source": [
    "# Style the color and size by the magnitude\n",
    "cc.map(layers=[Layer('earthquakes_30',\n",
    "       color={'column': 'mag', 'scheme': styling.redOr(5, bin_method='equal')},\n",
    "       size={'column':'mag', 'bins':5, 'bin_method':'equal'})])"
   ]
  },
  {
   "cell_type": "code",
   "execution_count": 42,
   "metadata": {
    "collapsed": false
   },
   "outputs": [],
   "source": [
    "# Try torque animation of time-stamp column\n",
    "\n",
    "# Make sure time-stamp column is a pandas date type\n",
    "earthquakes['time'] = pd.to_datetime(earthquakes.time)"
   ]
  },
  {
   "cell_type": "code",
   "execution_count": 54,
   "metadata": {
    "collapsed": false,
    "scrolled": true
   },
   "outputs": [
    {
     "data": {
      "text/html": [
       "<div>\n",
       "<style>\n",
       "    .dataframe thead tr:only-child th {\n",
       "        text-align: right;\n",
       "    }\n",
       "\n",
       "    .dataframe thead th {\n",
       "        text-align: left;\n",
       "    }\n",
       "\n",
       "    .dataframe tbody tr th {\n",
       "        vertical-align: top;\n",
       "    }\n",
       "</style>\n",
       "<table border=\"1\" class=\"dataframe\">\n",
       "  <thead>\n",
       "    <tr style=\"text-align: right;\">\n",
       "      <th></th>\n",
       "      <th>time</th>\n",
       "      <th>latitude</th>\n",
       "      <th>longitude</th>\n",
       "      <th>depth</th>\n",
       "      <th>mag</th>\n",
       "      <th>magType</th>\n",
       "      <th>nst</th>\n",
       "      <th>gap</th>\n",
       "      <th>dmin</th>\n",
       "      <th>rms</th>\n",
       "      <th>...</th>\n",
       "      <th>updated</th>\n",
       "      <th>place</th>\n",
       "      <th>type</th>\n",
       "      <th>horizontalError</th>\n",
       "      <th>depthError</th>\n",
       "      <th>magError</th>\n",
       "      <th>magNst</th>\n",
       "      <th>status</th>\n",
       "      <th>locationSource</th>\n",
       "      <th>magSource</th>\n",
       "    </tr>\n",
       "  </thead>\n",
       "  <tbody>\n",
       "    <tr>\n",
       "      <th>0</th>\n",
       "      <td>2017-11-07 20:20:04.691</td>\n",
       "      <td>60.2319</td>\n",
       "      <td>-141.676800</td>\n",
       "      <td>0.10</td>\n",
       "      <td>2.00</td>\n",
       "      <td>ml</td>\n",
       "      <td>NaN</td>\n",
       "      <td>NaN</td>\n",
       "      <td>NaN</td>\n",
       "      <td>0.63</td>\n",
       "      <td>...</td>\n",
       "      <td>2017-11-07T20:26:56.545Z</td>\n",
       "      <td>45km ENE of Cape Yakataga, Alaska</td>\n",
       "      <td>earthquake</td>\n",
       "      <td>NaN</td>\n",
       "      <td>0.30</td>\n",
       "      <td>NaN</td>\n",
       "      <td>NaN</td>\n",
       "      <td>automatic</td>\n",
       "      <td>ak</td>\n",
       "      <td>ak</td>\n",
       "    </tr>\n",
       "    <tr>\n",
       "      <th>1</th>\n",
       "      <td>2017-11-07 20:09:49.420</td>\n",
       "      <td>33.4685</td>\n",
       "      <td>-116.466667</td>\n",
       "      <td>6.86</td>\n",
       "      <td>1.94</td>\n",
       "      <td>ml</td>\n",
       "      <td>69.0</td>\n",
       "      <td>57.0</td>\n",
       "      <td>0.06458</td>\n",
       "      <td>0.22</td>\n",
       "      <td>...</td>\n",
       "      <td>2017-11-07T20:21:04.820Z</td>\n",
       "      <td>22km ESE of Anza, CA</td>\n",
       "      <td>earthquake</td>\n",
       "      <td>0.2</td>\n",
       "      <td>0.65</td>\n",
       "      <td>0.173</td>\n",
       "      <td>26.0</td>\n",
       "      <td>automatic</td>\n",
       "      <td>ci</td>\n",
       "      <td>ci</td>\n",
       "    </tr>\n",
       "  </tbody>\n",
       "</table>\n",
       "<p>2 rows × 22 columns</p>\n",
       "</div>"
      ],
      "text/plain": [
       "                     time  latitude   longitude  depth   mag magType   nst  \\\n",
       "0 2017-11-07 20:20:04.691   60.2319 -141.676800   0.10  2.00      ml   NaN   \n",
       "1 2017-11-07 20:09:49.420   33.4685 -116.466667   6.86  1.94      ml  69.0   \n",
       "\n",
       "    gap     dmin   rms    ...                      updated  \\\n",
       "0   NaN      NaN  0.63    ...     2017-11-07T20:26:56.545Z   \n",
       "1  57.0  0.06458  0.22    ...     2017-11-07T20:21:04.820Z   \n",
       "\n",
       "                               place        type horizontalError depthError  \\\n",
       "0  45km ENE of Cape Yakataga, Alaska  earthquake             NaN       0.30   \n",
       "1               22km ESE of Anza, CA  earthquake             0.2       0.65   \n",
       "\n",
       "   magError  magNst     status  locationSource magSource  \n",
       "0       NaN     NaN  automatic              ak        ak  \n",
       "1     0.173    26.0  automatic              ci        ci  \n",
       "\n",
       "[2 rows x 22 columns]"
      ]
     },
     "execution_count": 54,
     "metadata": {},
     "output_type": "execute_result"
    }
   ],
   "source": [
    "earthquakes.head(2)"
   ]
  },
  {
   "cell_type": "code",
   "execution_count": 55,
   "metadata": {
    "collapsed": false
   },
   "outputs": [
    {
     "data": {
      "text/plain": [
       "time               datetime64[ns]\n",
       "latitude                  float64\n",
       "longitude                 float64\n",
       "depth                     float64\n",
       "mag                       float64\n",
       "magType                    object\n",
       "nst                       float64\n",
       "gap                       float64\n",
       "dmin                      float64\n",
       "rms                       float64\n",
       "net                        object\n",
       "id                         object\n",
       "updated                    object\n",
       "place                      object\n",
       "type                       object\n",
       "horizontalError           float64\n",
       "depthError                float64\n",
       "magError                  float64\n",
       "magNst                    float64\n",
       "status                     object\n",
       "locationSource             object\n",
       "magSource                  object\n",
       "dtype: object"
      ]
     },
     "execution_count": 55,
     "metadata": {},
     "output_type": "execute_result"
    }
   ],
   "source": [
    "earthquakes.dtypes"
   ]
  },
  {
   "cell_type": "code",
   "execution_count": 56,
   "metadata": {
    "collapsed": false,
    "scrolled": true
   },
   "outputs": [
    {
     "name": "stdout",
     "output_type": "stream",
     "text": [
      "The following columns were changed in the CARTO copy of this dataframe:\n",
      "\u001b[1mmagType\u001b[0m -> \u001b[1mmagtype\u001b[0m\n",
      "\u001b[1mhorizontalError\u001b[0m -> \u001b[1mhorizontalerror\u001b[0m\n",
      "\u001b[1mdepthError\u001b[0m -> \u001b[1mdeptherror\u001b[0m\n",
      "\u001b[1mmagError\u001b[0m -> \u001b[1mmagerror\u001b[0m\n",
      "\u001b[1mmagNst\u001b[0m -> \u001b[1mmagnst\u001b[0m\n",
      "\u001b[1mlocationSource\u001b[0m -> \u001b[1mlocationsource\u001b[0m\n",
      "\u001b[1mmagSource\u001b[0m -> \u001b[1mmagsource\u001b[0m\n",
      "Table successfully written to CARTO: https://michellemho-carto.carto.com/dataset/earthquakes_30\n"
     ]
    }
   ],
   "source": [
    "# Update CARTO dataset\n",
    "cc.write(earthquakes, 'earthquakes_30', lnglat=('longitude','latitude'), overwrite=True)"
   ]
  },
  {
   "cell_type": "code",
   "execution_count": 61,
   "metadata": {
    "collapsed": false,
    "scrolled": true
   },
   "outputs": [
    {
     "data": {
      "text/html": [
       "<iframe srcdoc=\"<!DOCTYPE html>\n",
       "<html>\n",
       "  <head>\n",
       "    <title>Carto</title>\n",
       "    <meta name='viewport' content='initial-scale=1.0, user-scalable=no' />\n",
       "    <meta http-equiv='content-type' content='text/html; charset=UTF-8' />\n",
       "    <link rel='shortcut icon' href='http://cartodb.com/assets/favicon.ico' />\n",
       "\n",
       "    <style>\n",
       "     html, body, #map {\n",
       "       height: 100%;\n",
       "       padding: 0;\n",
       "       margin: 0;\n",
       "     }\n",
       "     #zoom-center {\n",
       "       position: absolute;\n",
       "       right: 0;\n",
       "       top: 0;\n",
       "       background-color: rgba(255, 255, 255, 0.7);\n",
       "       width: 240px;\n",
       "       z-index: 100;\n",
       "       padding: 4px;\n",
       "     }\n",
       "    </style>\n",
       "\n",
       "    <link rel='stylesheet' href='https://cartodb-libs.global.ssl.fastly.net/cartodb.js/v3/3.15/themes/css/cartodb.css' />\n",
       "  </head>\n",
       "  <body>\n",
       "    <div id='zoom-center'>\n",
       "      zoom=<span id='zoom'>4</span>,\n",
       "      lng=<span id='lon'>No data</span>, lat=<span id='lat'>No data</span></div>\n",
       "    <div id='map'></div>\n",
       "    <script src='https://cartodb-libs.global.ssl.fastly.net/cartodb.js/v3/3.15/cartodb.js'></script>\n",
       "\n",
       "    <script>\n",
       "     const config  = {&quot;maps_api_template&quot;: &quot;https://michellemho-carto.carto.com&quot;, &quot;sql_api_template&quot;: &quot;https://michellemho-carto.carto.com&quot;, &quot;user_name&quot;: &quot;michellemho-carto&quot;, &quot;type&quot;: &quot;torque&quot;, &quot;order&quot;: 1, &quot;named_map&quot;: {&quot;params&quot;: {&quot;cartocss_0&quot;: &quot;Map {  -torque-animation-duration: 30; -torque-time-attribute: &#92;'time&#92;'; -torque-aggregation-function: &#92;'sum(cartodb_id)&#92;'; -torque-resolution: 1; -torque-frame-count: 256; -torque-data-aggregation: linear;} #layer {  comp-op: source-over; marker-width: 4; marker-fill: #2752ff; marker-allow-overlap: true; marker-line-width: 0; marker-fill-opacity: 0.9; marker-line-opacity: 1; marker-line-color: #FFF;} #layer[frame-offset=1] {  marker-opacity: 0.45; marker-width: 5.2;} #layer[frame-offset=2] {  marker-opacity: 0.225; marker-width: 6.4;} #layer[frame-offset=3] {  marker-opacity: 0.1125; marker-width: 7.6;} #layer[frame-offset=4] {  marker-opacity: 0.05625; marker-width: 8.8;} &quot;, &quot;basemap_url&quot;: &quot;https://cartodb-basemaps-{s}.global.ssl.fastly.net/rastertiles/voyager_labels_under/{z}/{x}/{y}.png&quot;, &quot;south&quot;: -64.8945, &quot;sql_0&quot;: &quot;SELECT * FROM earthquakes_30&quot;, &quot;west&quot;: -179.9713, &quot;north&quot;: 86.8932, &quot;east&quot;: 179.961}, &quot;layers&quot;: [{&quot;layer_name&quot;: &quot;t&quot;}], &quot;name&quot;: &quot;cartoframes_ver20170406_layers1_time1_baseid2_labels0_zoom0&quot;}, &quot;tiler_protocol&quot;: &quot;https&quot;, &quot;tiler_domain&quot;: &quot;carto.com&quot;, &quot;options&quot;: {&quot;tile_style&quot;: &quot;Map {  -torque-animation-duration: 30; -torque-time-attribute: 'time'; -torque-aggregation-function: 'sum(cartodb_id)'; -torque-resolution: 1; -torque-frame-count: 256; -torque-data-aggregation: linear;} #layer {  comp-op: source-over; marker-width: 4; marker-fill: #2752ff; marker-allow-overlap: true; marker-line-width: 0; marker-fill-opacity: 0.9; marker-line-opacity: 1; marker-line-color: #FFF;} #layer[frame-offset=1] {  marker-opacity: 0.45; marker-width: 5.2;} #layer[frame-offset=2] {  marker-opacity: 0.225; marker-width: 6.4;} #layer[frame-offset=3] {  marker-opacity: 0.1125; marker-width: 7.6;} #layer[frame-offset=4] {  marker-opacity: 0.05625; marker-width: 8.8;} &quot;, &quot;user_name&quot;: &quot;michellemho-carto&quot;, &quot;query&quot;: &quot;SELECT * FROM earthquakes_30&quot;}, &quot;tiler_port&quot;: &quot;80&quot;};\n",
       "     const bounds  = [[86.8932, 179.961], [-64.8945, -179.9713]];\n",
       "     const options = {&quot;loop&quot;: true, &quot;https&quot;: true, &quot;filter&quot;: [&quot;http&quot;, &quot;mapnik&quot;, &quot;torque&quot;], &quot;time_slider&quot;: true};\n",
       "\n",
       "     const adjustLongitude = (lng) => (\n",
       "       lng - ((Math.ceil((lng + 180) / 360) - 1) * 360)\n",
       "     );\n",
       "     const map = L.map('map', {\n",
       "       zoom: 3,\n",
       "       center: [0, 0],\n",
       "     });\n",
       "     if (config.type === 'torque') {\n",
       "         L.tileLayer(config.named_map.params.basemap_url, {\n",
       "             attribution: &quot;&copy; <a href=\\&quot;http://www.openstreetmap.org/copyright\\&quot;>OpenStreetMap</a>&quot;\n",
       "         }).addTo(map);\n",
       "     };\n",
       "     const updateMapInfo = () => {\n",
       "       $('#zoom').text(map.getZoom());\n",
       "       $('#lat').text(map.getCenter().lat.toFixed(4));\n",
       "       $('#lon').text(adjustLongitude(map.getCenter().lng).toFixed(4));\n",
       "     };\n",
       "\n",
       "     cartodb.createLayer(map, config, options)\n",
       "            .addTo(map)\n",
       "            .done((layer) => {\n",
       "              if (bounds.length) {\n",
       "                map.fitBounds(bounds);\n",
       "              }\n",
       "              updateMapInfo();\n",
       "              map.on('move', () => {\n",
       "                updateMapInfo();\n",
       "              });\n",
       "            })\n",
       "            .error((err) => {\n",
       "              console.log('ERROR: ', err);\n",
       "            });\n",
       "    </script>\n",
       "\n",
       "  </body>\n",
       "</html>\n",
       "\" width=800 height=400>  Preview image: <img src=\"https://michellemho-carto.carto.com/api/v1/map/static/named/cartoframes_ver20170406_layers1_time1_baseid2_labels0_zoom0/800/400.png?config=%7B%22cartocss_0%22%3A+%22Map+%7B++-torque-animation-duration%3A+30%3B+-torque-time-attribute%3A+%27time%27%3B+-torque-aggregation-function%3A+%27sum%28cartodb_id%29%27%3B+-torque-resolution%3A+1%3B+-torque-frame-count%3A+256%3B+-torque-data-aggregation%3A+linear%3B%7D+%23layer+%7B++comp-op%3A+source-over%3B+marker-width%3A+4%3B+marker-fill%3A+%232752ff%3B+marker-allow-overlap%3A+true%3B+marker-line-width%3A+0%3B+marker-fill-opacity%3A+0.9%3B+marker-line-opacity%3A+1%3B+marker-line-color%3A+%23FFF%3B%7D+%23layer%5Bframe-offset%3D1%5D+%7B++marker-opacity%3A+0.45%3B+marker-width%3A+5.2%3B%7D+%23layer%5Bframe-offset%3D2%5D+%7B++marker-opacity%3A+0.225%3B+marker-width%3A+6.4%3B%7D+%23layer%5Bframe-offset%3D3%5D+%7B++marker-opacity%3A+0.1125%3B+marker-width%3A+7.6%3B%7D+%23layer%5Bframe-offset%3D4%5D+%7B++marker-opacity%3A+0.05625%3B+marker-width%3A+8.8%3B%7D+%22%2C+%22basemap_url%22%3A+%22https%3A%2F%2Fcartodb-basemaps-%7Bs%7D.global.ssl.fastly.net%2Frastertiles%2Fvoyager_labels_under%2F%7Bz%7D%2F%7Bx%7D%2F%7By%7D.png%22%2C+%22sql_0%22%3A+%22SELECT+%2A+FROM+earthquakes_30%22%7D&bbox=-179.9713%2C-64.8945%2C179.961%2C86.8932&anti_cache=0.760111038181322\" /></iframe>"
      ],
      "text/plain": [
       "<IPython.core.display.HTML object>"
      ]
     },
     "execution_count": 61,
     "metadata": {},
     "output_type": "execute_result"
    }
   ],
   "source": [
    "# Create an animated map by specifying the time of the layer\n",
    "cc.map(layers=[Layer('earthquakes_30', time = {'column':'time', 'method':'sum', 'trails':4, 'duration':30})])"
   ]
  },
  {
   "cell_type": "code",
   "execution_count": 60,
   "metadata": {
    "collapsed": false
   },
   "outputs": [
    {
     "data": {
      "text/plain": [
       "'0.2.4b4'"
      ]
     },
     "execution_count": 60,
     "metadata": {},
     "output_type": "execute_result"
    }
   ],
   "source": [
    "cartoframes.__version__"
   ]
  },
  {
   "cell_type": "code",
   "execution_count": null,
   "metadata": {
    "collapsed": true
   },
   "outputs": [],
   "source": []
  }
 ],
 "metadata": {
  "anaconda-cloud": {},
  "kernelspec": {
   "display_name": "Python [default]",
   "language": "python",
   "name": "python3"
  },
  "language_info": {
   "codemirror_mode": {
    "name": "ipython",
    "version": 3
   },
   "file_extension": ".py",
   "mimetype": "text/x-python",
   "name": "python",
   "nbconvert_exporter": "python",
   "pygments_lexer": "ipython3",
   "version": "3.5.2"
  }
 },
 "nbformat": 4,
 "nbformat_minor": 2
}
