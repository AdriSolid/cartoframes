{
 "cells": [
  {
   "cell_type": "markdown",
   "metadata": {
    "deletable": true,
    "editable": true
   },
   "source": [
    "## Create a new cartoframe from a pandas.DataFrame"
   ]
  },
  {
   "cell_type": "code",
   "execution_count": 1,
   "metadata": {
    "collapsed": true
   },
   "outputs": [],
   "source": [
    "import pandas as pd\n",
    "import cartoframes\n",
    "import numpy as np\n",
    "import json\n",
    "APIKEY = json.loads(open('credentials.json').read())['api_key']\n",
    "USERNAME = json.loads(open('credentials.json').read())['username']"
   ]
  },
  {
   "cell_type": "code",
   "execution_count": 2,
   "metadata": {
    "collapsed": false,
    "deletable": true,
    "editable": true
   },
   "outputs": [
    {
     "data": {
      "text/html": [
       "<div>\n",
       "<table border=\"1\" class=\"dataframe\">\n",
       "  <thead>\n",
       "    <tr style=\"text-align: right;\">\n",
       "      <th></th>\n",
       "      <th>ids</th>\n",
       "      <th>lat</th>\n",
       "      <th>lon</th>\n",
       "      <th>scores</th>\n",
       "    </tr>\n",
       "  </thead>\n",
       "  <tbody>\n",
       "    <tr>\n",
       "      <th>0</th>\n",
       "      <td>a</td>\n",
       "      <td>40.961058</td>\n",
       "      <td>-73.517608</td>\n",
       "      <td>0.686168</td>\n",
       "    </tr>\n",
       "    <tr>\n",
       "      <th>1</th>\n",
       "      <td>b</td>\n",
       "      <td>40.659230</td>\n",
       "      <td>-74.082445</td>\n",
       "      <td>0.796796</td>\n",
       "    </tr>\n",
       "    <tr>\n",
       "      <th>2</th>\n",
       "      <td>c</td>\n",
       "      <td>41.148131</td>\n",
       "      <td>-73.959331</td>\n",
       "      <td>0.632230</td>\n",
       "    </tr>\n",
       "    <tr>\n",
       "      <th>3</th>\n",
       "      <td>d</td>\n",
       "      <td>40.375517</td>\n",
       "      <td>-73.670416</td>\n",
       "      <td>0.266940</td>\n",
       "    </tr>\n",
       "    <tr>\n",
       "      <th>4</th>\n",
       "      <td>e</td>\n",
       "      <td>40.501712</td>\n",
       "      <td>-73.763133</td>\n",
       "      <td>0.354215</td>\n",
       "    </tr>\n",
       "  </tbody>\n",
       "</table>\n",
       "</div>"
      ],
      "text/plain": [
       "  ids        lat        lon    scores\n",
       "0   a  40.961058 -73.517608  0.686168\n",
       "1   b  40.659230 -74.082445  0.796796\n",
       "2   c  41.148131 -73.959331  0.632230\n",
       "3   d  40.375517 -73.670416  0.266940\n",
       "4   e  40.501712 -73.763133  0.354215"
      ]
     },
     "execution_count": 2,
     "metadata": {},
     "output_type": "execute_result"
    }
   ],
   "source": [
    "multiplier = 2000\n",
    "awesome = {'ids': list('abcdefghij') * multiplier,\n",
    "           'scores': np.random.random(10 * multiplier),\n",
    "           'lat': 40.7128 + (0.5 - np.random.random(10 * multiplier)),\n",
    "           'lon': -74.0059 + (0.5 - np.random.random(10 * multiplier))}\n",
    "df = pd.DataFrame(awesome)\n",
    "df.head()"
   ]
  },
  {
   "cell_type": "code",
   "execution_count": 3,
   "metadata": {
    "collapsed": false,
    "deletable": true,
    "editable": true,
    "scrolled": false
   },
   "outputs": [
    {
     "name": "stdout",
     "output_type": "stream",
     "text": [
      "New cartoframe created. Table on CARTO is called `awesome_new_table_20000_rows`\n"
     ]
    }
   ],
   "source": [
    "df.sync_carto(username=USERNAME,\n",
    "              api_key=APIKEY,\n",
    "              requested_tablename='awesome_new_table_20000_rows',\n",
    "              createtable=True,\n",
    "              is_org_user=True, \n",
    "              latlng_cols=('lat', 'lon'))"
   ]
  },
  {
   "cell_type": "code",
   "execution_count": 4,
   "metadata": {
    "collapsed": false,
    "deletable": true,
    "editable": true,
    "scrolled": true
   },
   "outputs": [
    {
     "data": {
      "text/html": [
       "<div>\n",
       "<table border=\"1\" class=\"dataframe\">\n",
       "  <thead>\n",
       "    <tr style=\"text-align: right;\">\n",
       "      <th></th>\n",
       "      <th>ids</th>\n",
       "      <th>lat</th>\n",
       "      <th>lon</th>\n",
       "      <th>scores</th>\n",
       "      <th>the_geom</th>\n",
       "    </tr>\n",
       "    <tr>\n",
       "      <th>cartodb_id</th>\n",
       "      <th></th>\n",
       "      <th></th>\n",
       "      <th></th>\n",
       "      <th></th>\n",
       "      <th></th>\n",
       "    </tr>\n",
       "  </thead>\n",
       "  <tbody>\n",
       "    <tr>\n",
       "      <th>1</th>\n",
       "      <td>a</td>\n",
       "      <td>40.961058</td>\n",
       "      <td>-73.517608</td>\n",
       "      <td>0.686168</td>\n",
       "      <td>0101000020E61000003CFFC6C7468552C0A57EF1A56154...</td>\n",
       "    </tr>\n",
       "    <tr>\n",
       "      <th>2</th>\n",
       "      <td>b</td>\n",
       "      <td>40.659230</td>\n",
       "      <td>-74.082445</td>\n",
       "      <td>0.796796</td>\n",
       "      <td>0101000020E6100000AF0E3DAD657D52C0CB37CBF2F592...</td>\n",
       "    </tr>\n",
       "    <tr>\n",
       "      <th>3</th>\n",
       "      <td>c</td>\n",
       "      <td>41.148131</td>\n",
       "      <td>-73.959331</td>\n",
       "      <td>0.632230</td>\n",
       "      <td>0101000020E61000002E7DAB19E86A52C057110EED1030...</td>\n",
       "    </tr>\n",
       "    <tr>\n",
       "      <th>4</th>\n",
       "      <td>d</td>\n",
       "      <td>40.375517</td>\n",
       "      <td>-73.670416</td>\n",
       "      <td>0.266940</td>\n",
       "      <td>0101000020E610000046AA422DD77052C06F31C9193840...</td>\n",
       "    </tr>\n",
       "    <tr>\n",
       "      <th>5</th>\n",
       "      <td>e</td>\n",
       "      <td>40.501712</td>\n",
       "      <td>-73.763133</td>\n",
       "      <td>0.354215</td>\n",
       "      <td>0101000020E61000006FB59DB81D8D52C0B2CF947AA030...</td>\n",
       "    </tr>\n",
       "  </tbody>\n",
       "</table>\n",
       "</div>"
      ],
      "text/plain": [
       "           ids        lat        lon    scores  \\\n",
       "cartodb_id                                       \n",
       "1            a  40.961058 -73.517608  0.686168   \n",
       "2            b  40.659230 -74.082445  0.796796   \n",
       "3            c  41.148131 -73.959331  0.632230   \n",
       "4            d  40.375517 -73.670416  0.266940   \n",
       "5            e  40.501712 -73.763133  0.354215   \n",
       "\n",
       "                                                     the_geom  \n",
       "cartodb_id                                                     \n",
       "1           0101000020E61000003CFFC6C7468552C0A57EF1A56154...  \n",
       "2           0101000020E6100000AF0E3DAD657D52C0CB37CBF2F592...  \n",
       "3           0101000020E61000002E7DAB19E86A52C057110EED1030...  \n",
       "4           0101000020E610000046AA422DD77052C06F31C9193840...  \n",
       "5           0101000020E61000006FB59DB81D8D52C0B2CF947AA030...  "
      ]
     },
     "execution_count": 4,
     "metadata": {},
     "output_type": "execute_result"
    }
   ],
   "source": [
    "df.head()"
   ]
  }
 ],
 "metadata": {
  "kernelspec": {
   "display_name": "Python 3",
   "language": "python",
   "name": "python3"
  },
  "language_info": {
   "codemirror_mode": {
    "name": "ipython",
    "version": 3
   },
   "file_extension": ".py",
   "mimetype": "text/x-python",
   "name": "python",
   "nbconvert_exporter": "python",
   "pygments_lexer": "ipython3",
   "version": "3.6.0"
  }
 },
 "nbformat": 4,
 "nbformat_minor": 2
}
