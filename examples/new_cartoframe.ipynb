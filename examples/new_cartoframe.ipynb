{
 "cells": [
  {
   "cell_type": "markdown",
   "metadata": {
    "deletable": true,
    "editable": true
   },
   "source": [
    "## Create a new cartoframe from a pandas.DataFrame"
   ]
  },
  {
   "cell_type": "code",
   "execution_count": 11,
   "metadata": {
    "collapsed": true
   },
   "outputs": [],
   "source": [
    "import pandas as pd\n",
    "import cartoframes\n",
    "import numpy as np\n",
    "import json\n",
    "APIKEY = json.loads(open('credentials.json').read())['api_key']\n",
    "USERNAME = json.loads(open('credentials.json').read())['username']"
   ]
  },
  {
   "cell_type": "code",
   "execution_count": 12,
   "metadata": {
    "collapsed": false,
    "deletable": true,
    "editable": true
   },
   "outputs": [
    {
     "data": {
      "text/html": [
       "<div>\n",
       "<table border=\"1\" class=\"dataframe\">\n",
       "  <thead>\n",
       "    <tr style=\"text-align: right;\">\n",
       "      <th></th>\n",
       "      <th>ids</th>\n",
       "      <th>lat</th>\n",
       "      <th>lon</th>\n",
       "      <th>scores</th>\n",
       "    </tr>\n",
       "  </thead>\n",
       "  <tbody>\n",
       "    <tr>\n",
       "      <th>0</th>\n",
       "      <td>a</td>\n",
       "      <td>40.271918</td>\n",
       "      <td>-74.263965</td>\n",
       "      <td>0.455327</td>\n",
       "    </tr>\n",
       "    <tr>\n",
       "      <th>1</th>\n",
       "      <td>b</td>\n",
       "      <td>40.380028</td>\n",
       "      <td>-73.776823</td>\n",
       "      <td>0.463224</td>\n",
       "    </tr>\n",
       "    <tr>\n",
       "      <th>2</th>\n",
       "      <td>c</td>\n",
       "      <td>40.802207</td>\n",
       "      <td>-74.005880</td>\n",
       "      <td>0.820090</td>\n",
       "    </tr>\n",
       "    <tr>\n",
       "      <th>3</th>\n",
       "      <td>d</td>\n",
       "      <td>40.501104</td>\n",
       "      <td>-74.024088</td>\n",
       "      <td>0.307737</td>\n",
       "    </tr>\n",
       "    <tr>\n",
       "      <th>4</th>\n",
       "      <td>e</td>\n",
       "      <td>41.190589</td>\n",
       "      <td>-74.004670</td>\n",
       "      <td>0.964724</td>\n",
       "    </tr>\n",
       "  </tbody>\n",
       "</table>\n",
       "</div>"
      ],
      "text/plain": [
       "  ids        lat        lon    scores\n",
       "0   a  40.271918 -74.263965  0.455327\n",
       "1   b  40.380028 -73.776823  0.463224\n",
       "2   c  40.802207 -74.005880  0.820090\n",
       "3   d  40.501104 -74.024088  0.307737\n",
       "4   e  41.190589 -74.004670  0.964724"
      ]
     },
     "execution_count": 12,
     "metadata": {},
     "output_type": "execute_result"
    }
   ],
   "source": [
    "multiplier = 2000\n",
    "awesome = {'ids': list('abcdefghij') * multiplier,\n",
    "           'scores': np.random.random(10 * multiplier),\n",
    "           'lat': 40.7128 + (0.5 - np.random.random(10 * multiplier)),\n",
    "           'lon': -74.0059 + (0.5 - np.random.random(10 * multiplier))}\n",
    "df = pd.DataFrame(awesome)\n",
    "df.head()"
   ]
  },
  {
   "cell_type": "code",
   "execution_count": 13,
   "metadata": {
    "collapsed": false,
    "deletable": true,
    "editable": true,
    "scrolled": false
   },
   "outputs": [
    {
     "name": "stdout",
     "output_type": "stream",
     "text": [
      "New cartoframe created. Table on CARTO is called `awesome_new_table_15000_rows`\n"
     ]
    }
   ],
   "source": [
    "df.sync_carto(username=USERNAME,\n",
    "              api_key=APIKEY,\n",
    "              requested_tablename='awesome_new_table_20000_rows',\n",
    "              createtable=True,\n",
    "              is_org_user=True, \n",
    "              latlng_cols=('lat', 'lon'))"
   ]
  },
  {
   "cell_type": "code",
   "execution_count": 14,
   "metadata": {
    "collapsed": false,
    "deletable": true,
    "editable": true,
    "scrolled": true
   },
   "outputs": [
    {
     "data": {
      "text/html": [
       "<div>\n",
       "<table border=\"1\" class=\"dataframe\">\n",
       "  <thead>\n",
       "    <tr style=\"text-align: right;\">\n",
       "      <th></th>\n",
       "      <th>ids</th>\n",
       "      <th>lat</th>\n",
       "      <th>lon</th>\n",
       "      <th>scores</th>\n",
       "      <th>the_geom</th>\n",
       "    </tr>\n",
       "    <tr>\n",
       "      <th>cartodb_id</th>\n",
       "      <th></th>\n",
       "      <th></th>\n",
       "      <th></th>\n",
       "      <th></th>\n",
       "      <th></th>\n",
       "    </tr>\n",
       "  </thead>\n",
       "  <tbody>\n",
       "    <tr>\n",
       "      <th>1</th>\n",
       "      <td>a</td>\n",
       "      <td>40.271918</td>\n",
       "      <td>-74.263965</td>\n",
       "      <td>0.455327</td>\n",
       "      <td>0101000020E61000000759E078B77152C0A65727C2A430...</td>\n",
       "    </tr>\n",
       "    <tr>\n",
       "      <th>2</th>\n",
       "      <td>b</td>\n",
       "      <td>40.380028</td>\n",
       "      <td>-73.776823</td>\n",
       "      <td>0.463224</td>\n",
       "      <td>0101000020E6100000157ED055608052C082E881B7AE66...</td>\n",
       "    </tr>\n",
       "    <tr>\n",
       "      <th>3</th>\n",
       "      <td>c</td>\n",
       "      <td>40.802207</td>\n",
       "      <td>-74.005880</td>\n",
       "      <td>0.820090</td>\n",
       "      <td>0101000020E61000000C28CEA88A8152C07B01C52D2440...</td>\n",
       "    </tr>\n",
       "    <tr>\n",
       "      <th>4</th>\n",
       "      <td>d</td>\n",
       "      <td>40.501104</td>\n",
       "      <td>-74.024088</td>\n",
       "      <td>0.307737</td>\n",
       "      <td>0101000020E6100000854210834C8052C05DDCE1376598...</td>\n",
       "    </tr>\n",
       "    <tr>\n",
       "      <th>5</th>\n",
       "      <td>e</td>\n",
       "      <td>41.190589</td>\n",
       "      <td>-74.004670</td>\n",
       "      <td>0.964724</td>\n",
       "      <td>0101000020E6100000BACF1267869F52C01A93C9359D4F...</td>\n",
       "    </tr>\n",
       "  </tbody>\n",
       "</table>\n",
       "</div>"
      ],
      "text/plain": [
       "           ids        lat        lon    scores  \\\n",
       "cartodb_id                                       \n",
       "1            a  40.271918 -74.263965  0.455327   \n",
       "2            b  40.380028 -73.776823  0.463224   \n",
       "3            c  40.802207 -74.005880  0.820090   \n",
       "4            d  40.501104 -74.024088  0.307737   \n",
       "5            e  41.190589 -74.004670  0.964724   \n",
       "\n",
       "                                                     the_geom  \n",
       "cartodb_id                                                     \n",
       "1           0101000020E61000000759E078B77152C0A65727C2A430...  \n",
       "2           0101000020E6100000157ED055608052C082E881B7AE66...  \n",
       "3           0101000020E61000000C28CEA88A8152C07B01C52D2440...  \n",
       "4           0101000020E6100000854210834C8052C05DDCE1376598...  \n",
       "5           0101000020E6100000BACF1267869F52C01A93C9359D4F...  "
      ]
     },
     "execution_count": 14,
     "metadata": {},
     "output_type": "execute_result"
    }
   ],
   "source": [
    "df.head()"
   ]
  }
 ],
 "metadata": {
  "kernelspec": {
   "display_name": "Python 3",
   "language": "python",
   "name": "python3"
  },
  "language_info": {
   "codemirror_mode": {
    "name": "ipython",
    "version": 3
   },
   "file_extension": ".py",
   "mimetype": "text/x-python",
   "name": "python",
   "nbconvert_exporter": "python",
   "pygments_lexer": "ipython3",
   "version": "3.6.0"
  }
 },
 "nbformat": 4,
 "nbformat_minor": 2
}
