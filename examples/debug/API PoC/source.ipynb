{
 "cells": [
  {
   "cell_type": "code",
   "execution_count": null,
   "metadata": {},
   "outputs": [],
   "source": [
    "import cartoframes\n",
    "from cartoframes import Context, Map, Layer, Source, Style, Popup\n",
    "\n",
    "# Context\n",
    "context = Context(\n",
    "    base_url='https://cartoframes.carto.com/'\n",
    "    api_key='default_public'\n",
    ")\n",
    "cartoframes.setDefaultContext(context)"
   ]
  },
  {
   "cell_type": "code",
   "execution_count": null,
   "metadata": {},
   "outputs": [],
   "source": [
    "# Source: Dataset\n",
    "map = Map(\n",
    "    Layer(\n",
    "        Source('table_name')\n",
    "    )\n",
    ")\n",
    "\n",
    "map.publish() # Use the existing table (backend clone)\n",
    "\n",
    "# Source: Dataset + sugar\n",
    "Map(Layer('table_name'))"
   ]
  },
  {
   "cell_type": "code",
   "execution_count": null,
   "metadata": {},
   "outputs": [],
   "source": [
    "# Source: SQL query\n",
    "map = Map(\n",
    "    Layer(\n",
    "        Source('SELECT * table_name FROM LIMIT 10')\n",
    "    )\n",
    ")\n",
    "\n",
    "map.publish() # Use the existing table (backend create)\n",
    "\n",
    "# Source: SQL query + sugar\n",
    "Map(Layer('SELECT * table_name FROM LIMIT 10'))"
   ]
  },
  {
   "cell_type": "code",
   "execution_count": null,
   "metadata": {},
   "outputs": [],
   "source": [
    "# Source: GeoJSON\n",
    "data = { ... }\n",
    "map = Map(\n",
    "    Layer(\n",
    "        Source(data)\n",
    "    )\n",
    ")\n",
    "\n",
    "map.publish() # Create a new table, upload the data and use that table\n",
    "\n",
    "# Source: GeoJSON + sugar\n",
    "data = { ... }\n",
    "Map(Layer(data))"
   ]
  },
  {
   "cell_type": "code",
   "execution_count": null,
   "metadata": {},
   "outputs": [],
   "source": [
    "# Source: force type\n",
    "map = Map(\n",
    "    Layer(\n",
    "        Source({...}, type='dataset | query | geojson')\n",
    "    )\n",
    ")"
   ]
  }
 ],
 "metadata": {
  "kernelspec": {
   "display_name": "Python 3",
   "language": "python",
   "name": "python3"
  },
  "language_info": {
   "codemirror_mode": {
    "name": "ipython",
    "version": 3
   },
   "file_extension": ".py",
   "mimetype": "text/x-python",
   "name": "python",
   "nbconvert_exporter": "python",
   "pygments_lexer": "ipython3",
   "version": "3.6.7"
  }
 },
 "nbformat": 4,
 "nbformat_minor": 2
}
