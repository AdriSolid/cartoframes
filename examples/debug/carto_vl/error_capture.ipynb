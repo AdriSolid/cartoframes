{
 "cells": [
  {
   "cell_type": "code",
   "execution_count": null,
   "metadata": {
    "scrolled": true
   },
   "outputs": [],
   "source": [
    "import cartoframes\n",
    "from cartoframes import carto_vl as vl\n",
    "from cartoframes import CartoContext\n",
    "\n",
    "context = CartoContext(\n",
    "    base_url='https://cartovl.carto.com/', \n",
    "    api_key='default_public'\n",
    ")"
   ]
  },
  {
   "cell_type": "code",
   "execution_count": null,
   "metadata": {},
   "outputs": [],
   "source": [
    "style = \"\"\"\n",
    "    @style: ramp($country_nam, bold)\n",
    "    @pop: sqrt($pop_2015) / 200\n",
    "    width: 2\n",
    "    color: blue\n",
    "    strokeWidth: 1.5\n",
    "    strokeColor: @style\n",
    "\"\"\"\n",
    "\n",
    "vl.Map([\n",
    "    vl.Layer(\n",
    "        'world_population_2015',\n",
    "        style=style\n",
    "    )],\n",
    "    context=context\n",
    ")"
   ]
  },
  {
   "cell_type": "code",
   "execution_count": null,
   "metadata": {},
   "outputs": [],
   "source": [
    "style = \"\"\"\n",
    "    @style: ramp($country_name, bold)\n",
    "    @pop: sqrt($pop_2015) / 200\n",
    "    width: 2\n",
    "    color: @wrongvariable\n",
    "    strokeWidth: 1.5\n",
    "    strokeColor: @style\n",
    "\"\"\"\n",
    "\n",
    "vl.Map([\n",
    "    vl.Layer(\n",
    "        'world_population_2015',\n",
    "        style=style\n",
    "    )],\n",
    "    context=context\n",
    ")"
   ]
  },
  {
   "cell_type": "code",
   "execution_count": null,
   "metadata": {},
   "outputs": [],
   "source": []
  },
  {
   "cell_type": "code",
   "execution_count": null,
   "metadata": {},
   "outputs": [],
   "source": []
  },
  {
   "cell_type": "code",
   "execution_count": null,
   "metadata": {},
   "outputs": [],
   "source": []
  }
 ],
 "metadata": {
  "kernelspec": {
   "display_name": "Python 3",
   "language": "python",
   "name": "python3"
  },
  "language_info": {
   "codemirror_mode": {
    "name": "ipython",
    "version": 3
   },
   "file_extension": ".py",
   "mimetype": "text/x-python",
   "name": "python",
   "nbconvert_exporter": "python",
   "pygments_lexer": "ipython3",
   "version": "3.7.2"
  }
 },
 "nbformat": 4,
 "nbformat_minor": 2
}
