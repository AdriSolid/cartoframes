{
 "cells": [
  {
   "cell_type": "code",
   "execution_count": 1,
   "metadata": {},
   "outputs": [
    {
     "ename": "AttributeError",
     "evalue": "module 'cartoframes.carto_vl.utils' has no attribute 'safe_quotes'",
     "output_type": "error",
     "traceback": [
      "\u001b[0;31m---------------------------------------------------------------------------\u001b[0m",
      "\u001b[0;31mAttributeError\u001b[0m                            Traceback (most recent call last)",
      "\u001b[0;32m<ipython-input-1-5de4f77dfff6>\u001b[0m in \u001b[0;36m<module>\u001b[0;34m\u001b[0m\n\u001b[1;32m     22\u001b[0m         \u001b[0mviz\u001b[0m\u001b[0;34m=\u001b[0m\u001b[0mviz\u001b[0m\u001b[0;34m\u001b[0m\u001b[0;34m\u001b[0m\u001b[0m\n\u001b[1;32m     23\u001b[0m     )],\n\u001b[0;32m---> 24\u001b[0;31m     \u001b[0mcontext\u001b[0m\u001b[0;34m=\u001b[0m\u001b[0mcontext\u001b[0m\u001b[0;34m\u001b[0m\u001b[0;34m\u001b[0m\u001b[0m\n\u001b[0m\u001b[1;32m     25\u001b[0m ).init()\n",
      "\u001b[0;32m~/Projects/CARTO/carto-data-science-stack/cartoframes/cartoframes/carto_vl/map/map.py\u001b[0m in \u001b[0;36m__init__\u001b[0;34m(self, layers, context, size, basemap, bounds, template)\u001b[0m\n\u001b[1;32m    145\u001b[0m                 \u001b[0mwidth\u001b[0m\u001b[0;34m=\u001b[0m\u001b[0msize\u001b[0m\u001b[0;34m[\u001b[0m\u001b[0;36m0\u001b[0m\u001b[0;34m]\u001b[0m\u001b[0;34m,\u001b[0m\u001b[0;34m\u001b[0m\u001b[0;34m\u001b[0m\u001b[0m\n\u001b[1;32m    146\u001b[0m                 \u001b[0mheight\u001b[0m\u001b[0;34m=\u001b[0m\u001b[0msize\u001b[0m\u001b[0;34m[\u001b[0m\u001b[0;36m1\u001b[0m\u001b[0;34m]\u001b[0m\u001b[0;34m,\u001b[0m\u001b[0;34m\u001b[0m\u001b[0;34m\u001b[0m\u001b[0m\n\u001b[0;32m--> 147\u001b[0;31m                 content=utils.safe_quotes(\n\u001b[0m\u001b[1;32m    148\u001b[0m                     _get_html_doc(jslayers,\n\u001b[1;32m    149\u001b[0m                                   \u001b[0mbounds\u001b[0m\u001b[0;34m,\u001b[0m\u001b[0;34m\u001b[0m\u001b[0;34m\u001b[0m\u001b[0m\n",
      "\u001b[0;31mAttributeError\u001b[0m: module 'cartoframes.carto_vl.utils' has no attribute 'safe_quotes'"
     ]
    }
   ],
   "source": [
    "import cartoframes\n",
    "from cartoframes.carto_vl import carto\n",
    "from cartoframes import CartoContext\n",
    "\n",
    "context = CartoContext(\n",
    "    base_url='https://cartovl.carto.com/', \n",
    "    api_key='default_public'\n",
    ")\n",
    "\n",
    "viz = \"\"\"\n",
    "    @style: ramp($country_name, bold)\n",
    "    @pop: sqrt($pop_2015) / 200\n",
    "    width: @pop\n",
    "    color: @style\n",
    "    strokeWidth: 1.5\n",
    "    strokeColor: @style\n",
    "\"\"\"\n",
    "\n",
    "carto.Map([\n",
    "    carto.Layer(\n",
    "        'world_population_2015',\n",
    "        viz=viz\n",
    "    )],\n",
    "    context=context\n",
    ").init()"
   ]
  },
  {
   "cell_type": "code",
   "execution_count": null,
   "metadata": {},
   "outputs": [],
   "source": []
  },
  {
   "cell_type": "code",
   "execution_count": null,
   "metadata": {},
   "outputs": [],
   "source": []
  }
 ],
 "metadata": {
  "kernelspec": {
   "display_name": "Python 3",
   "language": "python",
   "name": "python3"
  },
  "language_info": {
   "codemirror_mode": {
    "name": "ipython",
    "version": 3
   },
   "file_extension": ".py",
   "mimetype": "text/x-python",
   "name": "python",
   "nbconvert_exporter": "python",
   "pygments_lexer": "ipython3",
   "version": "3.7.2"
  }
 },
 "nbformat": 4,
 "nbformat_minor": 2
}
