{
 "cells": [
  {
   "cell_type": "code",
   "execution_count": null,
   "metadata": {},
   "outputs": [],
   "source": [
    "import cartoframes\n",
    "from cartoframes.carto_vl import carto\n",
    "from cartoframes import CartoContext\n",
    "\n",
    "context = CartoContext(\n",
    "    base_url='https://cartovl.carto.com/', \n",
    "    api_key='default_public'\n",
    ")\n",
    "\n",
    "viz = \"\"\"\n",
    "    @style: ramp($country_name, bold)\n",
    "    @pop: sqrt($pop_2015) / 200\n",
    "    width: @pop\n",
    "    color: @style\n",
    "    strokeWidth: 1.5\n",
    "    strokeColor: @style\n",
    "\"\"\"\n",
    "\n",
    "carto.Map([\n",
    "    carto.Layer(\n",
    "        'world_population_2015',\n",
    "        viz=viz\n",
    "    )],\n",
    "    context=context\n",
    ").init()"
   ]
  },
  {
   "cell_type": "code",
   "execution_count": null,
   "metadata": {},
   "outputs": [],
   "source": []
  },
  {
   "cell_type": "code",
   "execution_count": null,
   "metadata": {},
   "outputs": [],
   "source": []
  }
 ],
 "metadata": {
  "kernelspec": {
   "display_name": "Python 3",
   "language": "python",
   "name": "python3"
  },
  "language_info": {
   "codemirror_mode": {
    "name": "ipython",
    "version": 3
   },
   "file_extension": ".py",
   "mimetype": "text/x-python",
   "name": "python",
   "nbconvert_exporter": "python",
   "pygments_lexer": "ipython3",
   "version": "3.7.2"
  }
 },
 "nbformat": 4,
 "nbformat_minor": 2
}
