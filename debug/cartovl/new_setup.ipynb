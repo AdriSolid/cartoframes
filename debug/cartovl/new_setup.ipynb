{
 "cells": [
  {
   "cell_type": "code",
   "execution_count": 1,
   "metadata": {},
   "outputs": [
    {
     "ename": "SyntaxError",
     "evalue": "invalid syntax (map.py, line 8)",
     "output_type": "error",
     "traceback": [
      "Traceback \u001b[0;36m(most recent call last)\u001b[0m:\n",
      "  File \u001b[1;32m\"/Users/elena/.local/share/virtualenvs/carto-data-science-stack-5Km6N6FZ/lib/python3.7/site-packages/IPython/core/interactiveshell.py\"\u001b[0m, line \u001b[1;32m3296\u001b[0m, in \u001b[1;35mrun_code\u001b[0m\n    exec(code_obj, self.user_global_ns, self.user_ns)\n",
      "  File \u001b[1;32m\"<ipython-input-1-a007f0357f4f>\"\u001b[0m, line \u001b[1;32m2\u001b[0m, in \u001b[1;35m<module>\u001b[0m\n    from cartoframes.carto_vl import carto\n",
      "\u001b[0;36m  File \u001b[0;32m\"/Users/elena/Projects/CARTO/carto-data-science-stack/cartoframes/cartoframes/carto_vl/carto.py\"\u001b[0;36m, line \u001b[0;32m2\u001b[0;36m, in \u001b[0;35m<module>\u001b[0;36m\u001b[0m\n\u001b[0;31m    from .map.map import map\u001b[0m\n",
      "\u001b[0;36m  File \u001b[0;32m\"/Users/elena/Projects/CARTO/carto-data-science-stack/cartoframes/cartoframes/carto_vl/map/map.py\"\u001b[0;36m, line \u001b[0;32m8\u001b[0m\n\u001b[0;31m    from ../.. import utils\u001b[0m\n\u001b[0m           ^\u001b[0m\n\u001b[0;31mSyntaxError\u001b[0m\u001b[0;31m:\u001b[0m invalid syntax\n"
     ]
    }
   ],
   "source": [
    "import cartoframes\n",
    "from cartoframes.carto_vl import carto\n",
    "from cartoframes import CartoContext\n",
    "\n",
    "context = CartoContext(\n",
    "    base_url='https://cartovl.carto.com/', \n",
    "    api_key='default_public'\n",
    ")\n",
    "\n",
    "carto.map(\n",
    "    [carto.layer('populated_places')], \n",
    "    context=context\n",
    ")"
   ]
  },
  {
   "cell_type": "code",
   "execution_count": null,
   "metadata": {},
   "outputs": [],
   "source": []
  }
 ],
 "metadata": {
  "kernelspec": {
   "display_name": "Python 3",
   "language": "python",
   "name": "python3"
  },
  "language_info": {
   "codemirror_mode": {
    "name": "ipython",
    "version": 3
   },
   "file_extension": ".py",
   "mimetype": "text/x-python",
   "name": "python",
   "nbconvert_exporter": "python",
   "pygments_lexer": "ipython3",
   "version": "3.7.2"
  }
 },
 "nbformat": 4,
 "nbformat_minor": 2
}
